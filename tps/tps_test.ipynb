{
 "metadata": {
  "language_info": {
   "codemirror_mode": {
    "name": "ipython",
    "version": 3
   },
   "file_extension": ".py",
   "mimetype": "text/x-python",
   "name": "python",
   "nbconvert_exporter": "python",
   "pygments_lexer": "ipython3",
   "version": 3
  },
  "orig_nbformat": 2,
  "kernelspec": {
   "name": "python_defaultSpec_1596801423891",
   "display_name": "Python 3.7.7 64-bit ('env': venv)"
  }
 },
 "nbformat": 4,
 "nbformat_minor": 2,
 "cells": [
  {
   "cell_type": "code",
   "execution_count": 1,
   "metadata": {
    "tags": []
   },
   "outputs": [],
   "source": [
    "import tps\n",
    "import pandas as pd"
   ]
  },
  {
   "cell_type": "code",
   "execution_count": 2,
   "metadata": {
    "tags": []
   },
   "outputs": [
    {
     "output_type": "stream",
     "name": "stderr",
     "text": "INFO:tps:loading csv data...\nINFO:tps:building machine learning models...\nINFO:tps:lsvc model accurary: 0.8001233806292412\nINFO:tps:knn model accurary: 0.811844540407156\nINFO:tps:finish loading data\n"
    }
   ],
   "source": [
    "ds = tps.KSIData()"
   ]
  },
  {
   "cell_type": "code",
   "execution_count": 3,
   "metadata": {},
   "outputs": [
    {
     "output_type": "execute_result",
     "data": {
      "text/plain": "                       Index_      ACCNUM  YEAR                      DATE  \\\nDATE_TIME                                                                   \n2006-01-02 07:05:00   3366651      884090  2006 2006-01-02 05:00:00+00:00   \n2006-01-02 07:05:00   3366652      884090  2006 2006-01-02 05:00:00+00:00   \n2006-01-04 19:40:00   3370333      885782  2006 2006-01-04 05:00:00+00:00   \n2006-01-04 19:40:00   3370334      885782  2006 2006-01-04 05:00:00+00:00   \n2006-01-06 22:10:00   3363337      882079  2006 2006-01-06 05:00:00+00:00   \n...                       ...         ...   ...                       ...   \n2019-06-25 20:02:00  81278209  9001182119  2019 2019-06-25 04:00:00+00:00   \n2019-06-25 20:02:00  81278210  9001182119  2019 2019-06-25 04:00:00+00:00   \n2019-06-26 09:02:00  81270264  9001184914  2019 2019-06-26 04:00:00+00:00   \n2019-06-26 09:02:00  81270268  9001184914  2019 2019-06-26 04:00:00+00:00   \n2019-06-27 18:50:00  81278366  9001196370  2019 2019-06-27 04:00:00+00:00   \n\n                     TIME HOUR            STREET1        STREET2       OFFSET  \\\nDATE_TIME                                                                       \n2006-01-02 07:05:00   705    7        BATHURST ST    DUNDAS ST W  60 NORTH OF   \n2006-01-02 07:05:00   705    7        BATHURST ST    DUNDAS ST W  60 NORTH OF   \n2006-01-04 19:40:00  1940   19        DUFFERIN ST     SYLVAN AVE          NaN   \n2006-01-04 19:40:00  1940   19        DUFFERIN ST     SYLVAN AVE          NaN   \n2006-01-06 22:10:00  2210   22       DON MILLS RD  LEITH HILL RD          NaN   \n...                   ...  ...                ...            ...          ...   \n2019-06-25 20:02:00  2002   20     MIDLAND AVENUE   MIDWEST ROAD          NaN   \n2019-06-25 20:02:00  2002   20     MIDLAND AVENUE   MIDWEST ROAD          NaN   \n2019-06-26 09:02:00   902    9        VICTORIA ST     QUEEN ST E          NaN   \n2019-06-26 09:02:00   902    9        VICTORIA ST     QUEEN ST E          NaN   \n2019-06-27 18:50:00  1850   18  LAKE SHORE BLVD W       TENTH ST  6 m West of   \n\n                         ROAD_CLASS  ... CYCLISTYPE_cc CYCACT_cc  CYCCOND_cc  \\\nDATE_TIME                            ...                                       \n2006-01-02 07:05:00  Major Arterial  ...            -1        -1          -1   \n2006-01-02 07:05:00  Major Arterial  ...            -1        -1          -1   \n2006-01-04 19:40:00  Major Arterial  ...            -1        -1          -1   \n2006-01-04 19:40:00  Major Arterial  ...            -1        -1          -1   \n2006-01-06 22:10:00  Major Arterial  ...            -1        -1          -1   \n...                             ...  ...           ...       ...         ...   \n2019-06-25 20:02:00  Major Arterial  ...            -1        -1          -1   \n2019-06-25 20:02:00  Major Arterial  ...            -1        -1          -1   \n2019-06-26 09:02:00  Major Arterial  ...            -1        -1          -1   \n2019-06-26 09:02:00  Major Arterial  ...            -1        -1          -1   \n2019-06-27 18:50:00  Major Arterial  ...            -1        -1          -1   \n\n                     INVAGE_cc        STREET1_MOD    STREET2_MOD STREET1_cc  \\\nDATE_TIME                                                                     \n2006-01-02 07:05:00          7        BATHURST ST    DUNDAS ST W        346   \n2006-01-02 07:05:00         10        BATHURST ST    DUNDAS ST W        346   \n2006-01-04 19:40:00          6        DUFFERIN ST     SYLVAN AVE        695   \n2006-01-04 19:40:00         16        DUFFERIN ST     SYLVAN AVE        695   \n2006-01-06 22:10:00         11       DON MILLS RD  LEITH HILL RD        674   \n...                        ...                ...            ...        ...   \n2019-06-25 20:02:00          5     MIDLAND AVENUE   MIDWEST ROAD       1259   \n2019-06-25 20:02:00          5     MIDLAND AVENUE   MIDWEST ROAD       1259   \n2019-06-26 09:02:00          9        VICTORIA ST     QUEEN ST E       1804   \n2019-06-26 09:02:00         12        VICTORIA ST     QUEEN ST E       1804   \n2019-06-27 18:50:00          9  LAKE SHORE BLVD W       TENTH ST       1110   \n\n                    STREET2_cc                       STREET12 STREET_U  \nDATE_TIME                                                               \n2006-01-02 07:05:00        707      BATHURST ST & DUNDAS ST W   244622  \n2006-01-02 07:05:00        707      BATHURST ST & DUNDAS ST W   244622  \n2006-01-04 19:40:00       1723       DUFFERIN ST & SYLVAN AVE  1197485  \n2006-01-04 19:40:00       1723       DUFFERIN ST & SYLVAN AVE  1197485  \n2006-01-06 22:10:00       1145   DON MILLS RD & LEITH HILL RD   771730  \n...                        ...                            ...      ...  \n2019-06-25 20:02:00       1261  MIDLAND AVENUE & MIDWEST ROAD  1587599  \n2019-06-25 20:02:00       1261  MIDLAND AVENUE & MIDWEST ROAD  1587599  \n2019-06-26 09:02:00       1465       VICTORIA ST & QUEEN ST E  2642860  \n2019-06-26 09:02:00       1465       VICTORIA ST & QUEEN ST E  2642860  \n2019-06-27 18:50:00       1735   LAKE SHORE BLVD W & TENTH ST  1925850  \n\n[6484 rows x 81 columns]",
      "text/html": "<div>\n<style scoped>\n    .dataframe tbody tr th:only-of-type {\n        vertical-align: middle;\n    }\n\n    .dataframe tbody tr th {\n        vertical-align: top;\n    }\n\n    .dataframe thead th {\n        text-align: right;\n    }\n</style>\n<table border=\"1\" class=\"dataframe\">\n  <thead>\n    <tr style=\"text-align: right;\">\n      <th></th>\n      <th>Index_</th>\n      <th>ACCNUM</th>\n      <th>YEAR</th>\n      <th>DATE</th>\n      <th>TIME</th>\n      <th>HOUR</th>\n      <th>STREET1</th>\n      <th>STREET2</th>\n      <th>OFFSET</th>\n      <th>ROAD_CLASS</th>\n      <th>...</th>\n      <th>CYCLISTYPE_cc</th>\n      <th>CYCACT_cc</th>\n      <th>CYCCOND_cc</th>\n      <th>INVAGE_cc</th>\n      <th>STREET1_MOD</th>\n      <th>STREET2_MOD</th>\n      <th>STREET1_cc</th>\n      <th>STREET2_cc</th>\n      <th>STREET12</th>\n      <th>STREET_U</th>\n    </tr>\n    <tr>\n      <th>DATE_TIME</th>\n      <th></th>\n      <th></th>\n      <th></th>\n      <th></th>\n      <th></th>\n      <th></th>\n      <th></th>\n      <th></th>\n      <th></th>\n      <th></th>\n      <th></th>\n      <th></th>\n      <th></th>\n      <th></th>\n      <th></th>\n      <th></th>\n      <th></th>\n      <th></th>\n      <th></th>\n      <th></th>\n      <th></th>\n    </tr>\n  </thead>\n  <tbody>\n    <tr>\n      <th>2006-01-02 07:05:00</th>\n      <td>3366651</td>\n      <td>884090</td>\n      <td>2006</td>\n      <td>2006-01-02 05:00:00+00:00</td>\n      <td>705</td>\n      <td>7</td>\n      <td>BATHURST ST</td>\n      <td>DUNDAS ST W</td>\n      <td>60 NORTH OF</td>\n      <td>Major Arterial</td>\n      <td>...</td>\n      <td>-1</td>\n      <td>-1</td>\n      <td>-1</td>\n      <td>7</td>\n      <td>BATHURST ST</td>\n      <td>DUNDAS ST W</td>\n      <td>346</td>\n      <td>707</td>\n      <td>BATHURST ST &amp; DUNDAS ST W</td>\n      <td>244622</td>\n    </tr>\n    <tr>\n      <th>2006-01-02 07:05:00</th>\n      <td>3366652</td>\n      <td>884090</td>\n      <td>2006</td>\n      <td>2006-01-02 05:00:00+00:00</td>\n      <td>705</td>\n      <td>7</td>\n      <td>BATHURST ST</td>\n      <td>DUNDAS ST W</td>\n      <td>60 NORTH OF</td>\n      <td>Major Arterial</td>\n      <td>...</td>\n      <td>-1</td>\n      <td>-1</td>\n      <td>-1</td>\n      <td>10</td>\n      <td>BATHURST ST</td>\n      <td>DUNDAS ST W</td>\n      <td>346</td>\n      <td>707</td>\n      <td>BATHURST ST &amp; DUNDAS ST W</td>\n      <td>244622</td>\n    </tr>\n    <tr>\n      <th>2006-01-04 19:40:00</th>\n      <td>3370333</td>\n      <td>885782</td>\n      <td>2006</td>\n      <td>2006-01-04 05:00:00+00:00</td>\n      <td>1940</td>\n      <td>19</td>\n      <td>DUFFERIN ST</td>\n      <td>SYLVAN AVE</td>\n      <td>NaN</td>\n      <td>Major Arterial</td>\n      <td>...</td>\n      <td>-1</td>\n      <td>-1</td>\n      <td>-1</td>\n      <td>6</td>\n      <td>DUFFERIN ST</td>\n      <td>SYLVAN AVE</td>\n      <td>695</td>\n      <td>1723</td>\n      <td>DUFFERIN ST &amp; SYLVAN AVE</td>\n      <td>1197485</td>\n    </tr>\n    <tr>\n      <th>2006-01-04 19:40:00</th>\n      <td>3370334</td>\n      <td>885782</td>\n      <td>2006</td>\n      <td>2006-01-04 05:00:00+00:00</td>\n      <td>1940</td>\n      <td>19</td>\n      <td>DUFFERIN ST</td>\n      <td>SYLVAN AVE</td>\n      <td>NaN</td>\n      <td>Major Arterial</td>\n      <td>...</td>\n      <td>-1</td>\n      <td>-1</td>\n      <td>-1</td>\n      <td>16</td>\n      <td>DUFFERIN ST</td>\n      <td>SYLVAN AVE</td>\n      <td>695</td>\n      <td>1723</td>\n      <td>DUFFERIN ST &amp; SYLVAN AVE</td>\n      <td>1197485</td>\n    </tr>\n    <tr>\n      <th>2006-01-06 22:10:00</th>\n      <td>3363337</td>\n      <td>882079</td>\n      <td>2006</td>\n      <td>2006-01-06 05:00:00+00:00</td>\n      <td>2210</td>\n      <td>22</td>\n      <td>DON MILLS RD</td>\n      <td>LEITH HILL RD</td>\n      <td>NaN</td>\n      <td>Major Arterial</td>\n      <td>...</td>\n      <td>-1</td>\n      <td>-1</td>\n      <td>-1</td>\n      <td>11</td>\n      <td>DON MILLS RD</td>\n      <td>LEITH HILL RD</td>\n      <td>674</td>\n      <td>1145</td>\n      <td>DON MILLS RD &amp; LEITH HILL RD</td>\n      <td>771730</td>\n    </tr>\n    <tr>\n      <th>...</th>\n      <td>...</td>\n      <td>...</td>\n      <td>...</td>\n      <td>...</td>\n      <td>...</td>\n      <td>...</td>\n      <td>...</td>\n      <td>...</td>\n      <td>...</td>\n      <td>...</td>\n      <td>...</td>\n      <td>...</td>\n      <td>...</td>\n      <td>...</td>\n      <td>...</td>\n      <td>...</td>\n      <td>...</td>\n      <td>...</td>\n      <td>...</td>\n      <td>...</td>\n      <td>...</td>\n    </tr>\n    <tr>\n      <th>2019-06-25 20:02:00</th>\n      <td>81278209</td>\n      <td>9001182119</td>\n      <td>2019</td>\n      <td>2019-06-25 04:00:00+00:00</td>\n      <td>2002</td>\n      <td>20</td>\n      <td>MIDLAND AVENUE</td>\n      <td>MIDWEST ROAD</td>\n      <td>NaN</td>\n      <td>Major Arterial</td>\n      <td>...</td>\n      <td>-1</td>\n      <td>-1</td>\n      <td>-1</td>\n      <td>5</td>\n      <td>MIDLAND AVENUE</td>\n      <td>MIDWEST ROAD</td>\n      <td>1259</td>\n      <td>1261</td>\n      <td>MIDLAND AVENUE &amp; MIDWEST ROAD</td>\n      <td>1587599</td>\n    </tr>\n    <tr>\n      <th>2019-06-25 20:02:00</th>\n      <td>81278210</td>\n      <td>9001182119</td>\n      <td>2019</td>\n      <td>2019-06-25 04:00:00+00:00</td>\n      <td>2002</td>\n      <td>20</td>\n      <td>MIDLAND AVENUE</td>\n      <td>MIDWEST ROAD</td>\n      <td>NaN</td>\n      <td>Major Arterial</td>\n      <td>...</td>\n      <td>-1</td>\n      <td>-1</td>\n      <td>-1</td>\n      <td>5</td>\n      <td>MIDLAND AVENUE</td>\n      <td>MIDWEST ROAD</td>\n      <td>1259</td>\n      <td>1261</td>\n      <td>MIDLAND AVENUE &amp; MIDWEST ROAD</td>\n      <td>1587599</td>\n    </tr>\n    <tr>\n      <th>2019-06-26 09:02:00</th>\n      <td>81270264</td>\n      <td>9001184914</td>\n      <td>2019</td>\n      <td>2019-06-26 04:00:00+00:00</td>\n      <td>902</td>\n      <td>9</td>\n      <td>VICTORIA ST</td>\n      <td>QUEEN ST E</td>\n      <td>NaN</td>\n      <td>Major Arterial</td>\n      <td>...</td>\n      <td>-1</td>\n      <td>-1</td>\n      <td>-1</td>\n      <td>9</td>\n      <td>VICTORIA ST</td>\n      <td>QUEEN ST E</td>\n      <td>1804</td>\n      <td>1465</td>\n      <td>VICTORIA ST &amp; QUEEN ST E</td>\n      <td>2642860</td>\n    </tr>\n    <tr>\n      <th>2019-06-26 09:02:00</th>\n      <td>81270268</td>\n      <td>9001184914</td>\n      <td>2019</td>\n      <td>2019-06-26 04:00:00+00:00</td>\n      <td>902</td>\n      <td>9</td>\n      <td>VICTORIA ST</td>\n      <td>QUEEN ST E</td>\n      <td>NaN</td>\n      <td>Major Arterial</td>\n      <td>...</td>\n      <td>-1</td>\n      <td>-1</td>\n      <td>-1</td>\n      <td>12</td>\n      <td>VICTORIA ST</td>\n      <td>QUEEN ST E</td>\n      <td>1804</td>\n      <td>1465</td>\n      <td>VICTORIA ST &amp; QUEEN ST E</td>\n      <td>2642860</td>\n    </tr>\n    <tr>\n      <th>2019-06-27 18:50:00</th>\n      <td>81278366</td>\n      <td>9001196370</td>\n      <td>2019</td>\n      <td>2019-06-27 04:00:00+00:00</td>\n      <td>1850</td>\n      <td>18</td>\n      <td>LAKE SHORE BLVD W</td>\n      <td>TENTH ST</td>\n      <td>6 m West of</td>\n      <td>Major Arterial</td>\n      <td>...</td>\n      <td>-1</td>\n      <td>-1</td>\n      <td>-1</td>\n      <td>9</td>\n      <td>LAKE SHORE BLVD W</td>\n      <td>TENTH ST</td>\n      <td>1110</td>\n      <td>1735</td>\n      <td>LAKE SHORE BLVD W &amp; TENTH ST</td>\n      <td>1925850</td>\n    </tr>\n  </tbody>\n</table>\n<p>6484 rows × 81 columns</p>\n</div>"
     },
     "metadata": {},
     "execution_count": 3
    }
   ],
   "source": [
    "ds.df"
   ]
  },
  {
   "cell_type": "code",
   "execution_count": 4,
   "metadata": {},
   "outputs": [
    {
     "output_type": "execute_result",
     "data": {
      "text/plain": "      AG_DRIV\nYEAR         \n2006      210\n2007      188\n2008      224\n2009      208\n2010      208\n2011      195\n2012      224\n2013      246\n2014      158\n2015      153\n2016      174\n2017      161\n2018      198\n2019      139",
      "text/html": "<div>\n<style scoped>\n    .dataframe tbody tr th:only-of-type {\n        vertical-align: middle;\n    }\n\n    .dataframe tbody tr th {\n        vertical-align: top;\n    }\n\n    .dataframe thead th {\n        text-align: right;\n    }\n</style>\n<table border=\"1\" class=\"dataframe\">\n  <thead>\n    <tr style=\"text-align: right;\">\n      <th></th>\n      <th>AG_DRIV</th>\n    </tr>\n    <tr>\n      <th>YEAR</th>\n      <th></th>\n    </tr>\n  </thead>\n  <tbody>\n    <tr>\n      <th>2006</th>\n      <td>210</td>\n    </tr>\n    <tr>\n      <th>2007</th>\n      <td>188</td>\n    </tr>\n    <tr>\n      <th>2008</th>\n      <td>224</td>\n    </tr>\n    <tr>\n      <th>2009</th>\n      <td>208</td>\n    </tr>\n    <tr>\n      <th>2010</th>\n      <td>208</td>\n    </tr>\n    <tr>\n      <th>2011</th>\n      <td>195</td>\n    </tr>\n    <tr>\n      <th>2012</th>\n      <td>224</td>\n    </tr>\n    <tr>\n      <th>2013</th>\n      <td>246</td>\n    </tr>\n    <tr>\n      <th>2014</th>\n      <td>158</td>\n    </tr>\n    <tr>\n      <th>2015</th>\n      <td>153</td>\n    </tr>\n    <tr>\n      <th>2016</th>\n      <td>174</td>\n    </tr>\n    <tr>\n      <th>2017</th>\n      <td>161</td>\n    </tr>\n    <tr>\n      <th>2018</th>\n      <td>198</td>\n    </tr>\n    <tr>\n      <th>2019</th>\n      <td>139</td>\n    </tr>\n  </tbody>\n</table>\n</div>"
     },
     "metadata": {},
     "execution_count": 4
    }
   ],
   "source": [
    "import numpy as np\n",
    "pd.pivot_table(ds.df, index=['YEAR'], values=['AG_DRIV'], aggfunc=np.sum)"
   ]
  },
  {
   "cell_type": "code",
   "execution_count": 5,
   "metadata": {},
   "outputs": [],
   "source": [
    "my_feature = ['MANOEUVER_cc', 'DRIVACT_cc', 'DRIVCOND_cc', 'INVAGE_cc', 'INJURY_cc']"
   ]
  },
  {
   "cell_type": "code",
   "execution_count": 6,
   "metadata": {},
   "outputs": [
    {
     "output_type": "execute_result",
     "data": {
      "text/plain": "                     MANOEUVER_cc  DRIVACT_cc  DRIVCOND_cc  INVAGE_cc  \\\nDATE_TIME                                                               \n2006-01-02 07:05:00             0           5            5          7   \n\n                     INJURY_cc  \nDATE_TIME                       \n2006-01-02 07:05:00          4  ",
      "text/html": "<div>\n<style scoped>\n    .dataframe tbody tr th:only-of-type {\n        vertical-align: middle;\n    }\n\n    .dataframe tbody tr th {\n        vertical-align: top;\n    }\n\n    .dataframe thead th {\n        text-align: right;\n    }\n</style>\n<table border=\"1\" class=\"dataframe\">\n  <thead>\n    <tr style=\"text-align: right;\">\n      <th></th>\n      <th>MANOEUVER_cc</th>\n      <th>DRIVACT_cc</th>\n      <th>DRIVCOND_cc</th>\n      <th>INVAGE_cc</th>\n      <th>INJURY_cc</th>\n    </tr>\n    <tr>\n      <th>DATE_TIME</th>\n      <th></th>\n      <th></th>\n      <th></th>\n      <th></th>\n      <th></th>\n    </tr>\n  </thead>\n  <tbody>\n    <tr>\n      <th>2006-01-02 07:05:00</th>\n      <td>0</td>\n      <td>5</td>\n      <td>5</td>\n      <td>7</td>\n      <td>4</td>\n    </tr>\n  </tbody>\n</table>\n</div>"
     },
     "metadata": {},
     "execution_count": 6
    }
   ],
   "source": [
    "a = ds.df[my_feature].head(1)\n",
    "a"
   ]
  },
  {
   "cell_type": "code",
   "execution_count": 7,
   "metadata": {},
   "outputs": [
    {
     "output_type": "execute_result",
     "data": {
      "text/plain": "array([4], dtype=int8)"
     },
     "metadata": {},
     "execution_count": 7
    }
   ],
   "source": [
    "ds.lsvc.predict([[0,5,5,7]])"
   ]
  },
  {
   "cell_type": "code",
   "execution_count": 11,
   "metadata": {
    "tags": []
   },
   "outputs": [
    {
     "output_type": "execute_result",
     "data": {
      "text/plain": "{0: 'Changing Lanes',\n 1: 'Disabled',\n 2: 'Going Ahead',\n 3: 'Making U Turn',\n 4: 'Merging',\n 5: 'Other',\n 6: 'Overtaking',\n 7: 'Parked',\n 8: 'Pulling Away from Shoulder or Curb',\n 9: 'Pulling Onto Shoulder or towardCurb',\n 10: 'Reversing',\n 11: 'Slowing or Stopping',\n 12: 'Stopped',\n 13: 'Turning Left',\n 14: 'Turning Right',\n 15: 'Unknown'}"
     },
     "metadata": {},
     "execution_count": 11
    }
   ],
   "source": [
    "features_cols = ['MANOEUVER', 'DRIVACT', 'DRIVCOND', 'INVAGE']\n",
    "response = ['INJURY']\n",
    "my_list = features_cols + response\n",
    "my_list = ['MANOEUVER', 'DRIVACT']\n",
    "#my_list\n",
    "ans = {}\n",
    "for i in my_list:\n",
    "    a = dict(enumerate(ds.df[i].cat.categories))\n",
    "    new_item = {i: a}\n",
    "    ans.update(new_item.copy())\n",
    "\n",
    "ans['MANOEUVER']\n",
    "# for i in t.values:\n",
    "#     print(i)\n",
    "\n"
   ]
  },
  {
   "cell_type": "code",
   "execution_count": 19,
   "metadata": {},
   "outputs": [
    {
     "output_type": "execute_result",
     "data": {
      "text/plain": "{0: 'Fatal', 1: 'Major', 2: 'Minimal', 3: 'Minor', 4: 'None'}"
     },
     "metadata": {},
     "execution_count": 19
    }
   ],
   "source": [
    "a = ds.get_column_dictionary('INVAGE')\n",
    "a"
   ]
  },
  {
   "cell_type": "code",
   "execution_count": 24,
   "metadata": {},
   "outputs": [
    {
     "output_type": "execute_result",
     "data": {
      "text/plain": "{0: 'Fatal', 1: 'Major', 2: 'Minimal', 3: 'Minor', 4: 'None'}"
     },
     "metadata": {},
     "execution_count": 24
    }
   ],
   "source": [
    "cols = ['MANOEUVER', 'DRIVACT', 'DRIVCOND', 'INJURY']\n",
    "my_dict = {}\n",
    "for i in cols:\n",
    "    a = ds.get_column_dictionary(i)\n",
    "    new_item = {i: a}\n",
    "    my_dict.update(new_item.copy())\n",
    "my_dict['INJURY']"
   ]
  },
  {
   "cell_type": "code",
   "execution_count": 20,
   "metadata": {},
   "outputs": [
    {
     "output_type": "execute_result",
     "data": {
      "text/plain": "{0: 'unknown',\n 1: '0 to 4',\n 2: '5 to 9',\n 3: '10 to 14',\n 4: '15 to 19',\n 5: '20 to 24',\n 6: '25 to 29',\n 7: '30 to 34',\n 8: '35 to 39',\n 9: '40 to 44',\n 10: '45 to 49',\n 11: '50 to 54',\n 12: '55 to 59',\n 13: '60 to 64',\n 14: '65 to 69',\n 15: '70 to 74',\n 16: '75 to 79',\n 17: '80 to 84',\n 18: '85 to 89',\n 19: '90 to 94',\n 20: 'Over 95'}"
     },
     "metadata": {},
     "execution_count": 20
    }
   ],
   "source": [
    "ds.age_list_index"
   ]
  },
  {
   "cell_type": "code",
   "execution_count": 25,
   "metadata": {},
   "outputs": [
    {
     "output_type": "execute_result",
     "data": {
      "text/plain": "'Fatal'"
     },
     "metadata": {},
     "execution_count": 25
    }
   ],
   "source": [
    "my_dict['INJURY'][0]"
   ]
  },
  {
   "cell_type": "code",
   "execution_count": null,
   "metadata": {},
   "outputs": [],
   "source": []
  }
 ]
}