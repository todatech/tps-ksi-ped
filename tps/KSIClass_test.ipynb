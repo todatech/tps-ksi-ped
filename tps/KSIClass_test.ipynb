{
 "metadata": {
  "language_info": {
   "codemirror_mode": {
    "name": "ipython",
    "version": 3
   },
   "file_extension": ".py",
   "mimetype": "text/x-python",
   "name": "python",
   "nbconvert_exporter": "python",
   "pygments_lexer": "ipython3",
   "version": 3
  },
  "orig_nbformat": 2,
  "kernelspec": {
   "name": "python_defaultSpec_1596661993944",
   "display_name": "Python 3.7.7 64-bit"
  }
 },
 "nbformat": 4,
 "nbformat_minor": 2,
 "cells": [
  {
   "cell_type": "code",
   "execution_count": 1,
   "metadata": {},
   "outputs": [],
   "source": [
    "import tps"
   ]
  },
  {
   "cell_type": "code",
   "execution_count": 2,
   "metadata": {
    "tags": []
   },
   "outputs": [
    {
     "output_type": "stream",
     "name": "stderr",
     "text": "INFO:tps:loading csv data...\nINFO:tps:finish loading data\n"
    }
   ],
   "source": [
    "ds = tps.KSIData()"
   ]
  },
  {
   "cell_type": "code",
   "execution_count": 3,
   "metadata": {},
   "outputs": [
    {
     "output_type": "execute_result",
     "data": {
      "text/plain": "                       Index_      ACCNUM  YEAR                      DATE  \\\nDATE_TIME                                                                   \n2006-01-02 07:05:00   3366651      884090  2006 2006-01-02 05:00:00+00:00   \n2006-01-02 07:05:00   3366652      884090  2006 2006-01-02 05:00:00+00:00   \n2006-01-04 19:40:00   3370333      885782  2006 2006-01-04 05:00:00+00:00   \n2006-01-04 19:40:00   3370334      885782  2006 2006-01-04 05:00:00+00:00   \n2006-01-06 22:10:00   3363337      882079  2006 2006-01-06 05:00:00+00:00   \n...                       ...         ...   ...                       ...   \n2019-06-25 20:02:00  81278209  9001182119  2019 2019-06-25 04:00:00+00:00   \n2019-06-25 20:02:00  81278210  9001182119  2019 2019-06-25 04:00:00+00:00   \n2019-06-26 09:02:00  81270264  9001184914  2019 2019-06-26 04:00:00+00:00   \n2019-06-26 09:02:00  81270268  9001184914  2019 2019-06-26 04:00:00+00:00   \n2019-06-27 18:50:00  81278366  9001196370  2019 2019-06-27 04:00:00+00:00   \n\n                     TIME HOUR            STREET1        STREET2       OFFSET  \\\nDATE_TIME                                                                       \n2006-01-02 07:05:00   705    7        BATHURST ST    DUNDAS ST W  60 NORTH OF   \n2006-01-02 07:05:00   705    7        BATHURST ST    DUNDAS ST W  60 NORTH OF   \n2006-01-04 19:40:00  1940   19        DUFFERIN ST     SYLVAN AVE          NaN   \n2006-01-04 19:40:00  1940   19        DUFFERIN ST     SYLVAN AVE          NaN   \n2006-01-06 22:10:00  2210   22       DON MILLS RD  LEITH HILL RD          NaN   \n...                   ...  ...                ...            ...          ...   \n2019-06-25 20:02:00  2002   20     MIDLAND AVENUE   MIDWEST ROAD          NaN   \n2019-06-25 20:02:00  2002   20     MIDLAND AVENUE   MIDWEST ROAD          NaN   \n2019-06-26 09:02:00   902    9        VICTORIA ST     QUEEN ST E          NaN   \n2019-06-26 09:02:00   902    9        VICTORIA ST     QUEEN ST E          NaN   \n2019-06-27 18:50:00  1850   18  LAKE SHORE BLVD W       TENTH ST  6 m West of   \n\n                         ROAD_CLASS  ... CYCLISTYPE_cc CYCACT_cc  CYCCOND_cc  \\\nDATE_TIME                            ...                                       \n2006-01-02 07:05:00  Major Arterial  ...            -1        -1          -1   \n2006-01-02 07:05:00  Major Arterial  ...            -1        -1          -1   \n2006-01-04 19:40:00  Major Arterial  ...            -1        -1          -1   \n2006-01-04 19:40:00  Major Arterial  ...            -1        -1          -1   \n2006-01-06 22:10:00  Major Arterial  ...            -1        -1          -1   \n...                             ...  ...           ...       ...         ...   \n2019-06-25 20:02:00  Major Arterial  ...            -1        -1          -1   \n2019-06-25 20:02:00  Major Arterial  ...            -1        -1          -1   \n2019-06-26 09:02:00  Major Arterial  ...            -1        -1          -1   \n2019-06-26 09:02:00  Major Arterial  ...            -1        -1          -1   \n2019-06-27 18:50:00  Major Arterial  ...            -1        -1          -1   \n\n                     INVAGE_cc        STREET1_MOD    STREET2_MOD STREET1_cc  \\\nDATE_TIME                                                                     \n2006-01-02 07:05:00          7        BATHURST ST    DUNDAS ST W        346   \n2006-01-02 07:05:00         10        BATHURST ST    DUNDAS ST W        346   \n2006-01-04 19:40:00          6        DUFFERIN ST     SYLVAN AVE        695   \n2006-01-04 19:40:00         16        DUFFERIN ST     SYLVAN AVE        695   \n2006-01-06 22:10:00         11       DON MILLS RD  LEITH HILL RD        674   \n...                        ...                ...            ...        ...   \n2019-06-25 20:02:00          5     MIDLAND AVENUE   MIDWEST ROAD       1259   \n2019-06-25 20:02:00          5     MIDLAND AVENUE   MIDWEST ROAD       1259   \n2019-06-26 09:02:00          9        VICTORIA ST     QUEEN ST E       1804   \n2019-06-26 09:02:00         12        VICTORIA ST     QUEEN ST E       1804   \n2019-06-27 18:50:00          9  LAKE SHORE BLVD W       TENTH ST       1110   \n\n                    STREET2_cc                       STREET12 STREET_U  \nDATE_TIME                                                               \n2006-01-02 07:05:00        707      BATHURST ST & DUNDAS ST W   244622  \n2006-01-02 07:05:00        707      BATHURST ST & DUNDAS ST W   244622  \n2006-01-04 19:40:00       1723       DUFFERIN ST & SYLVAN AVE  1197485  \n2006-01-04 19:40:00       1723       DUFFERIN ST & SYLVAN AVE  1197485  \n2006-01-06 22:10:00       1145   DON MILLS RD & LEITH HILL RD   771730  \n...                        ...                            ...      ...  \n2019-06-25 20:02:00       1261  MIDLAND AVENUE & MIDWEST ROAD  1587599  \n2019-06-25 20:02:00       1261  MIDLAND AVENUE & MIDWEST ROAD  1587599  \n2019-06-26 09:02:00       1465       VICTORIA ST & QUEEN ST E  2642860  \n2019-06-26 09:02:00       1465       VICTORIA ST & QUEEN ST E  2642860  \n2019-06-27 18:50:00       1735   LAKE SHORE BLVD W & TENTH ST  1925850  \n\n[6484 rows x 81 columns]",
      "text/html": "<div>\n<style scoped>\n    .dataframe tbody tr th:only-of-type {\n        vertical-align: middle;\n    }\n\n    .dataframe tbody tr th {\n        vertical-align: top;\n    }\n\n    .dataframe thead th {\n        text-align: right;\n    }\n</style>\n<table border=\"1\" class=\"dataframe\">\n  <thead>\n    <tr style=\"text-align: right;\">\n      <th></th>\n      <th>Index_</th>\n      <th>ACCNUM</th>\n      <th>YEAR</th>\n      <th>DATE</th>\n      <th>TIME</th>\n      <th>HOUR</th>\n      <th>STREET1</th>\n      <th>STREET2</th>\n      <th>OFFSET</th>\n      <th>ROAD_CLASS</th>\n      <th>...</th>\n      <th>CYCLISTYPE_cc</th>\n      <th>CYCACT_cc</th>\n      <th>CYCCOND_cc</th>\n      <th>INVAGE_cc</th>\n      <th>STREET1_MOD</th>\n      <th>STREET2_MOD</th>\n      <th>STREET1_cc</th>\n      <th>STREET2_cc</th>\n      <th>STREET12</th>\n      <th>STREET_U</th>\n    </tr>\n    <tr>\n      <th>DATE_TIME</th>\n      <th></th>\n      <th></th>\n      <th></th>\n      <th></th>\n      <th></th>\n      <th></th>\n      <th></th>\n      <th></th>\n      <th></th>\n      <th></th>\n      <th></th>\n      <th></th>\n      <th></th>\n      <th></th>\n      <th></th>\n      <th></th>\n      <th></th>\n      <th></th>\n      <th></th>\n      <th></th>\n      <th></th>\n    </tr>\n  </thead>\n  <tbody>\n    <tr>\n      <th>2006-01-02 07:05:00</th>\n      <td>3366651</td>\n      <td>884090</td>\n      <td>2006</td>\n      <td>2006-01-02 05:00:00+00:00</td>\n      <td>705</td>\n      <td>7</td>\n      <td>BATHURST ST</td>\n      <td>DUNDAS ST W</td>\n      <td>60 NORTH OF</td>\n      <td>Major Arterial</td>\n      <td>...</td>\n      <td>-1</td>\n      <td>-1</td>\n      <td>-1</td>\n      <td>7</td>\n      <td>BATHURST ST</td>\n      <td>DUNDAS ST W</td>\n      <td>346</td>\n      <td>707</td>\n      <td>BATHURST ST &amp; DUNDAS ST W</td>\n      <td>244622</td>\n    </tr>\n    <tr>\n      <th>2006-01-02 07:05:00</th>\n      <td>3366652</td>\n      <td>884090</td>\n      <td>2006</td>\n      <td>2006-01-02 05:00:00+00:00</td>\n      <td>705</td>\n      <td>7</td>\n      <td>BATHURST ST</td>\n      <td>DUNDAS ST W</td>\n      <td>60 NORTH OF</td>\n      <td>Major Arterial</td>\n      <td>...</td>\n      <td>-1</td>\n      <td>-1</td>\n      <td>-1</td>\n      <td>10</td>\n      <td>BATHURST ST</td>\n      <td>DUNDAS ST W</td>\n      <td>346</td>\n      <td>707</td>\n      <td>BATHURST ST &amp; DUNDAS ST W</td>\n      <td>244622</td>\n    </tr>\n    <tr>\n      <th>2006-01-04 19:40:00</th>\n      <td>3370333</td>\n      <td>885782</td>\n      <td>2006</td>\n      <td>2006-01-04 05:00:00+00:00</td>\n      <td>1940</td>\n      <td>19</td>\n      <td>DUFFERIN ST</td>\n      <td>SYLVAN AVE</td>\n      <td>NaN</td>\n      <td>Major Arterial</td>\n      <td>...</td>\n      <td>-1</td>\n      <td>-1</td>\n      <td>-1</td>\n      <td>6</td>\n      <td>DUFFERIN ST</td>\n      <td>SYLVAN AVE</td>\n      <td>695</td>\n      <td>1723</td>\n      <td>DUFFERIN ST &amp; SYLVAN AVE</td>\n      <td>1197485</td>\n    </tr>\n    <tr>\n      <th>2006-01-04 19:40:00</th>\n      <td>3370334</td>\n      <td>885782</td>\n      <td>2006</td>\n      <td>2006-01-04 05:00:00+00:00</td>\n      <td>1940</td>\n      <td>19</td>\n      <td>DUFFERIN ST</td>\n      <td>SYLVAN AVE</td>\n      <td>NaN</td>\n      <td>Major Arterial</td>\n      <td>...</td>\n      <td>-1</td>\n      <td>-1</td>\n      <td>-1</td>\n      <td>16</td>\n      <td>DUFFERIN ST</td>\n      <td>SYLVAN AVE</td>\n      <td>695</td>\n      <td>1723</td>\n      <td>DUFFERIN ST &amp; SYLVAN AVE</td>\n      <td>1197485</td>\n    </tr>\n    <tr>\n      <th>2006-01-06 22:10:00</th>\n      <td>3363337</td>\n      <td>882079</td>\n      <td>2006</td>\n      <td>2006-01-06 05:00:00+00:00</td>\n      <td>2210</td>\n      <td>22</td>\n      <td>DON MILLS RD</td>\n      <td>LEITH HILL RD</td>\n      <td>NaN</td>\n      <td>Major Arterial</td>\n      <td>...</td>\n      <td>-1</td>\n      <td>-1</td>\n      <td>-1</td>\n      <td>11</td>\n      <td>DON MILLS RD</td>\n      <td>LEITH HILL RD</td>\n      <td>674</td>\n      <td>1145</td>\n      <td>DON MILLS RD &amp; LEITH HILL RD</td>\n      <td>771730</td>\n    </tr>\n    <tr>\n      <th>...</th>\n      <td>...</td>\n      <td>...</td>\n      <td>...</td>\n      <td>...</td>\n      <td>...</td>\n      <td>...</td>\n      <td>...</td>\n      <td>...</td>\n      <td>...</td>\n      <td>...</td>\n      <td>...</td>\n      <td>...</td>\n      <td>...</td>\n      <td>...</td>\n      <td>...</td>\n      <td>...</td>\n      <td>...</td>\n      <td>...</td>\n      <td>...</td>\n      <td>...</td>\n      <td>...</td>\n    </tr>\n    <tr>\n      <th>2019-06-25 20:02:00</th>\n      <td>81278209</td>\n      <td>9001182119</td>\n      <td>2019</td>\n      <td>2019-06-25 04:00:00+00:00</td>\n      <td>2002</td>\n      <td>20</td>\n      <td>MIDLAND AVENUE</td>\n      <td>MIDWEST ROAD</td>\n      <td>NaN</td>\n      <td>Major Arterial</td>\n      <td>...</td>\n      <td>-1</td>\n      <td>-1</td>\n      <td>-1</td>\n      <td>5</td>\n      <td>MIDLAND AVENUE</td>\n      <td>MIDWEST ROAD</td>\n      <td>1259</td>\n      <td>1261</td>\n      <td>MIDLAND AVENUE &amp; MIDWEST ROAD</td>\n      <td>1587599</td>\n    </tr>\n    <tr>\n      <th>2019-06-25 20:02:00</th>\n      <td>81278210</td>\n      <td>9001182119</td>\n      <td>2019</td>\n      <td>2019-06-25 04:00:00+00:00</td>\n      <td>2002</td>\n      <td>20</td>\n      <td>MIDLAND AVENUE</td>\n      <td>MIDWEST ROAD</td>\n      <td>NaN</td>\n      <td>Major Arterial</td>\n      <td>...</td>\n      <td>-1</td>\n      <td>-1</td>\n      <td>-1</td>\n      <td>5</td>\n      <td>MIDLAND AVENUE</td>\n      <td>MIDWEST ROAD</td>\n      <td>1259</td>\n      <td>1261</td>\n      <td>MIDLAND AVENUE &amp; MIDWEST ROAD</td>\n      <td>1587599</td>\n    </tr>\n    <tr>\n      <th>2019-06-26 09:02:00</th>\n      <td>81270264</td>\n      <td>9001184914</td>\n      <td>2019</td>\n      <td>2019-06-26 04:00:00+00:00</td>\n      <td>902</td>\n      <td>9</td>\n      <td>VICTORIA ST</td>\n      <td>QUEEN ST E</td>\n      <td>NaN</td>\n      <td>Major Arterial</td>\n      <td>...</td>\n      <td>-1</td>\n      <td>-1</td>\n      <td>-1</td>\n      <td>9</td>\n      <td>VICTORIA ST</td>\n      <td>QUEEN ST E</td>\n      <td>1804</td>\n      <td>1465</td>\n      <td>VICTORIA ST &amp; QUEEN ST E</td>\n      <td>2642860</td>\n    </tr>\n    <tr>\n      <th>2019-06-26 09:02:00</th>\n      <td>81270268</td>\n      <td>9001184914</td>\n      <td>2019</td>\n      <td>2019-06-26 04:00:00+00:00</td>\n      <td>902</td>\n      <td>9</td>\n      <td>VICTORIA ST</td>\n      <td>QUEEN ST E</td>\n      <td>NaN</td>\n      <td>Major Arterial</td>\n      <td>...</td>\n      <td>-1</td>\n      <td>-1</td>\n      <td>-1</td>\n      <td>12</td>\n      <td>VICTORIA ST</td>\n      <td>QUEEN ST E</td>\n      <td>1804</td>\n      <td>1465</td>\n      <td>VICTORIA ST &amp; QUEEN ST E</td>\n      <td>2642860</td>\n    </tr>\n    <tr>\n      <th>2019-06-27 18:50:00</th>\n      <td>81278366</td>\n      <td>9001196370</td>\n      <td>2019</td>\n      <td>2019-06-27 04:00:00+00:00</td>\n      <td>1850</td>\n      <td>18</td>\n      <td>LAKE SHORE BLVD W</td>\n      <td>TENTH ST</td>\n      <td>6 m West of</td>\n      <td>Major Arterial</td>\n      <td>...</td>\n      <td>-1</td>\n      <td>-1</td>\n      <td>-1</td>\n      <td>9</td>\n      <td>LAKE SHORE BLVD W</td>\n      <td>TENTH ST</td>\n      <td>1110</td>\n      <td>1735</td>\n      <td>LAKE SHORE BLVD W &amp; TENTH ST</td>\n      <td>1925850</td>\n    </tr>\n  </tbody>\n</table>\n<p>6484 rows × 81 columns</p>\n</div>"
     },
     "metadata": {},
     "execution_count": 3
    }
   ],
   "source": [
    "ds.df"
   ]
  },
  {
   "cell_type": "code",
   "execution_count": 4,
   "metadata": {},
   "outputs": [],
   "source": [
    "mydf = ds.df"
   ]
  },
  {
   "cell_type": "code",
   "execution_count": 5,
   "metadata": {},
   "outputs": [
    {
     "output_type": "execute_result",
     "data": {
      "text/plain": "2544"
     },
     "metadata": {},
     "execution_count": 5
    }
   ],
   "source": [
    "ds.get_total_cases()"
   ]
  },
  {
   "cell_type": "code",
   "execution_count": 6,
   "metadata": {},
   "outputs": [
    {
     "output_type": "execute_result",
     "data": {
      "text/plain": "False    5322\nTrue     1162\nName: ACCLASS, dtype: int64"
     },
     "metadata": {},
     "execution_count": 6
    }
   ],
   "source": [
    "accidents = ds.df.ACCLASS.value_counts().sort_index(ascending=True)\n",
    "accidents"
   ]
  },
  {
   "cell_type": "code",
   "execution_count": 9,
   "metadata": {},
   "outputs": [
    {
     "output_type": "execute_result",
     "data": {
      "text/plain": "Index([False, True], dtype='object')"
     },
     "metadata": {},
     "execution_count": 9
    }
   ],
   "source": [
    "accidents.index"
   ]
  },
  {
   "cell_type": "code",
   "execution_count": 11,
   "metadata": {},
   "outputs": [
    {
     "output_type": "execute_result",
     "data": {
      "text/plain": "DATE  ACCLASS\n2006  False      490\n      True        81\n2007  False      434\n      True        76\n2008  False      416\n      True        82\n2009  False      433\n      True        82\n2010  False      421\n      True        60\n2011  False      437\n      True        52\n2012  False      446\n      True        67\n2013  False      411\n      True       136\n2014  False      268\n      True        75\n2015  False      269\n      True        91\n2016  False      310\n      True       106\n2017  False      309\n      True        82\n2018  False      396\n      True        91\n2019  False      282\n      True        81\nName: ACCLASS, dtype: int64"
     },
     "metadata": {},
     "execution_count": 11
    }
   ],
   "source": [
    "fy = ds.df.groupby(ds.df.DATE.dt.year)['ACCLASS'].value_counts()\n",
    "fy"
   ]
  },
  {
   "cell_type": "code",
   "execution_count": 30,
   "metadata": {},
   "outputs": [
    {
     "output_type": "execute_result",
     "data": {
      "text/plain": "Int64Index([2006, 2007, 2008, 2009, 2010, 2011, 2012, 2013, 2014, 2015, 2016,\n            2017, 2018, 2019],\n           dtype='int64', name='DATE')"
     },
     "metadata": {},
     "execution_count": 30
    }
   ],
   "source": [
    "fy.unstack().index"
   ]
  },
  {
   "cell_type": "code",
   "execution_count": null,
   "metadata": {},
   "outputs": [],
   "source": []
  }
 ]
}