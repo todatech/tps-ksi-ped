{
 "metadata": {
  "language_info": {
   "codemirror_mode": {
    "name": "ipython",
    "version": 3
   },
   "file_extension": ".py",
   "mimetype": "text/x-python",
   "name": "python",
   "nbconvert_exporter": "python",
   "pygments_lexer": "ipython3",
   "version": "3.7.7-final"
  },
  "orig_nbformat": 2,
  "kernelspec": {
   "name": "python3",
   "display_name": "Python 3"
  }
 },
 "nbformat": 4,
 "nbformat_minor": 2,
 "cells": [
  {
   "cell_type": "markdown",
   "metadata": {},
   "source": [
    "# Visualization of KSI dataset (Predestrian) for Toronto Police Service -- Sprint 1\n",
    "by Tony Chan, Micahaela Hrabetova, Lu Han, Sangeeta Khanna"
   ]
  },
  {
   "cell_type": "markdown",
   "metadata": {},
   "source": [
    "## Motivation\n",
    "This notebook only contains the cleaned dataset and other useful variables associated to assist the modeling for other notebooks."
   ]
  },
  {
   "cell_type": "code",
   "execution_count": 1,
   "metadata": {},
   "outputs": [],
   "source": [
    "from __future__ import division\n",
    "\n",
    "import numpy as np\n",
    "import pandas as pd\n",
    "import seaborn as sns\n",
    "import matplotlib.pyplot as plt\n",
    "import matplotlib as mpl\n",
    "import scipy.stats as stats\n",
    "\n",
    "\n",
    "sns.set_style('whitegrid')\n",
    "%matplotlib inline\n",
    "\n",
    "\n",
    "# statsmodels\n",
    "import statsmodels.formula.api as smf\n",
    "import statsmodels.api as sm\n",
    "\n",
    "\n",
    "# sci-kit learn\n",
    "\n",
    "from sklearn.linear_model import LinearRegression\n",
    "# from sklearn.neighbors import KNeighborsClassifier\n",
    "# from sklearn.svm import LinearSVC\n",
    "# from sklearn import svm\n",
    "# from sklearn.datasets import make_classification\n",
    "\n",
    "# sci-kit learn Random Forest\n",
    "import sklearn as sk\n",
    "import sklearn.datasets as skd\n",
    "import sklearn.ensemble as ske\n",
    "\n",
    "\n",
    "# Performance metrics\n",
    "from sklearn import metrics\n",
    "from sklearn.model_selection import train_test_split\n",
    "#from sklearn.metrics import accuracy_score\n",
    "\n",
    "\n",
    "# helpers\n",
    "from numpy.random import randn\n",
    "from pprint import pprint"
   ]
  },
  {
   "cell_type": "code",
   "execution_count": null,
   "metadata": {},
   "outputs": [],
   "source": [
    "pd.set_option('display.float_format', lambda x: '%.2f' % x)"
   ]
  },
  {
   "cell_type": "markdown",
   "metadata": {},
   "source": [
    "## Data Structure and Description"
   ]
  },
  {
   "cell_type": "code",
   "execution_count": 2,
   "metadata": {},
   "outputs": [],
   "source": [
    "df_meta = pd.read_csv(\"../src/data/pedestrian/KSI_Metadata.csv\")\n",
    "# df_meta"
   ]
  },
  {
   "cell_type": "code",
   "execution_count": 3,
   "metadata": {},
   "outputs": [
    {
     "output_type": "execute_result",
     "data": {
      "text/plain": "              X             Y   Index_  ACCNUM  YEAR                    DATE  \\\n0 -8.839464e+06  5.411883e+06  3366651  884090  2006  2006/01/02 05:00:00+00   \n1 -8.839464e+06  5.411883e+06  3366652  884090  2006  2006/01/02 05:00:00+00   \n2 -8.842507e+06  5.412229e+06  3370333  885782  2006  2006/01/04 05:00:00+00   \n3 -8.842507e+06  5.412229e+06  3370334  885782  2006  2006/01/04 05:00:00+00   \n4 -8.832963e+06  5.431006e+06  3363337  882079  2006  2006/01/06 05:00:00+00   \n5 -8.832963e+06  5.431006e+06  3363338  882079  2006  2006/01/06 05:00:00+00   \n6 -8.856366e+06  5.422436e+06  3363864  882497  2006  2006/01/08 05:00:00+00   \n7 -8.856366e+06  5.422436e+06  3363865  882497  2006  2006/01/08 05:00:00+00   \n8 -8.856366e+06  5.422436e+06  3363866  882497  2006  2006/01/08 05:00:00+00   \n9 -8.856366e+06  5.422436e+06  3363867  882497  2006  2006/01/08 05:00:00+00   \n\n   TIME  HOUR        STREET1        STREET2  ... EMERG_VEH PASSENGER SPEEDING  \\\n0   705     7    BATHURST ST    DUNDAS ST W  ...       NaN       NaN      NaN   \n1   705     7    BATHURST ST    DUNDAS ST W  ...       NaN       NaN      NaN   \n2  1940    19    DUFFERIN ST     SYLVAN AVE  ...       NaN       NaN      NaN   \n3  1940    19    DUFFERIN ST     SYLVAN AVE  ...       NaN       NaN      NaN   \n4  2210    22   DON MILLS RD  LEITH HILL RD  ...       NaN       NaN      NaN   \n5  2210    22   DON MILLS RD  LEITH HILL RD  ...       NaN       NaN      NaN   \n6  1828    18  ISLINGTON AVE    GOLFDOWN DR  ...       NaN       Yes      NaN   \n7  1828    18  ISLINGTON AVE    GOLFDOWN DR  ...       NaN       Yes      NaN   \n8  1828    18  ISLINGTON AVE    GOLFDOWN DR  ...       NaN       Yes      NaN   \n9  1828    18  ISLINGTON AVE    GOLFDOWN DR  ...       NaN       Yes      NaN   \n\n   AG_DRIV  REDLIGHT  ALCOHOL  DISABILITY Hood_ID              Neighbourhood  \\\n0      NaN       NaN      NaN         NaN      78  Kensington-Chinatown (78)   \n1      NaN       NaN      NaN         NaN      78  Kensington-Chinatown (78)   \n2      NaN       NaN      NaN         NaN      83        Dufferin Grove (83)   \n3      NaN       NaN      NaN         NaN      83        Dufferin Grove (83)   \n4      NaN       NaN      NaN         NaN      47    Don Valley Village (47)   \n5      NaN       NaN      NaN         NaN      47    Don Valley Village (47)   \n6      Yes       NaN      NaN         NaN       5       Elms-Old Rexdale (5)   \n7      Yes       NaN      NaN         NaN       5       Elms-Old Rexdale (5)   \n8      Yes       NaN      NaN         NaN       5       Elms-Old Rexdale (5)   \n9      Yes       NaN      NaN         NaN       5       Elms-Old Rexdale (5)   \n\n  ObjectId  \n0        1  \n1        2  \n2        3  \n3        4  \n4        5  \n5        6  \n6        7  \n7        8  \n8        9  \n9       10  \n\n[10 rows x 56 columns]",
      "text/html": "<div>\n<style scoped>\n    .dataframe tbody tr th:only-of-type {\n        vertical-align: middle;\n    }\n\n    .dataframe tbody tr th {\n        vertical-align: top;\n    }\n\n    .dataframe thead th {\n        text-align: right;\n    }\n</style>\n<table border=\"1\" class=\"dataframe\">\n  <thead>\n    <tr style=\"text-align: right;\">\n      <th></th>\n      <th>X</th>\n      <th>Y</th>\n      <th>Index_</th>\n      <th>ACCNUM</th>\n      <th>YEAR</th>\n      <th>DATE</th>\n      <th>TIME</th>\n      <th>HOUR</th>\n      <th>STREET1</th>\n      <th>STREET2</th>\n      <th>...</th>\n      <th>EMERG_VEH</th>\n      <th>PASSENGER</th>\n      <th>SPEEDING</th>\n      <th>AG_DRIV</th>\n      <th>REDLIGHT</th>\n      <th>ALCOHOL</th>\n      <th>DISABILITY</th>\n      <th>Hood_ID</th>\n      <th>Neighbourhood</th>\n      <th>ObjectId</th>\n    </tr>\n  </thead>\n  <tbody>\n    <tr>\n      <th>0</th>\n      <td>-8.839464e+06</td>\n      <td>5.411883e+06</td>\n      <td>3366651</td>\n      <td>884090</td>\n      <td>2006</td>\n      <td>2006/01/02 05:00:00+00</td>\n      <td>705</td>\n      <td>7</td>\n      <td>BATHURST ST</td>\n      <td>DUNDAS ST W</td>\n      <td>...</td>\n      <td>NaN</td>\n      <td>NaN</td>\n      <td>NaN</td>\n      <td>NaN</td>\n      <td>NaN</td>\n      <td>NaN</td>\n      <td>NaN</td>\n      <td>78</td>\n      <td>Kensington-Chinatown (78)</td>\n      <td>1</td>\n    </tr>\n    <tr>\n      <th>1</th>\n      <td>-8.839464e+06</td>\n      <td>5.411883e+06</td>\n      <td>3366652</td>\n      <td>884090</td>\n      <td>2006</td>\n      <td>2006/01/02 05:00:00+00</td>\n      <td>705</td>\n      <td>7</td>\n      <td>BATHURST ST</td>\n      <td>DUNDAS ST W</td>\n      <td>...</td>\n      <td>NaN</td>\n      <td>NaN</td>\n      <td>NaN</td>\n      <td>NaN</td>\n      <td>NaN</td>\n      <td>NaN</td>\n      <td>NaN</td>\n      <td>78</td>\n      <td>Kensington-Chinatown (78)</td>\n      <td>2</td>\n    </tr>\n    <tr>\n      <th>2</th>\n      <td>-8.842507e+06</td>\n      <td>5.412229e+06</td>\n      <td>3370333</td>\n      <td>885782</td>\n      <td>2006</td>\n      <td>2006/01/04 05:00:00+00</td>\n      <td>1940</td>\n      <td>19</td>\n      <td>DUFFERIN ST</td>\n      <td>SYLVAN AVE</td>\n      <td>...</td>\n      <td>NaN</td>\n      <td>NaN</td>\n      <td>NaN</td>\n      <td>NaN</td>\n      <td>NaN</td>\n      <td>NaN</td>\n      <td>NaN</td>\n      <td>83</td>\n      <td>Dufferin Grove (83)</td>\n      <td>3</td>\n    </tr>\n    <tr>\n      <th>3</th>\n      <td>-8.842507e+06</td>\n      <td>5.412229e+06</td>\n      <td>3370334</td>\n      <td>885782</td>\n      <td>2006</td>\n      <td>2006/01/04 05:00:00+00</td>\n      <td>1940</td>\n      <td>19</td>\n      <td>DUFFERIN ST</td>\n      <td>SYLVAN AVE</td>\n      <td>...</td>\n      <td>NaN</td>\n      <td>NaN</td>\n      <td>NaN</td>\n      <td>NaN</td>\n      <td>NaN</td>\n      <td>NaN</td>\n      <td>NaN</td>\n      <td>83</td>\n      <td>Dufferin Grove (83)</td>\n      <td>4</td>\n    </tr>\n    <tr>\n      <th>4</th>\n      <td>-8.832963e+06</td>\n      <td>5.431006e+06</td>\n      <td>3363337</td>\n      <td>882079</td>\n      <td>2006</td>\n      <td>2006/01/06 05:00:00+00</td>\n      <td>2210</td>\n      <td>22</td>\n      <td>DON MILLS RD</td>\n      <td>LEITH HILL RD</td>\n      <td>...</td>\n      <td>NaN</td>\n      <td>NaN</td>\n      <td>NaN</td>\n      <td>NaN</td>\n      <td>NaN</td>\n      <td>NaN</td>\n      <td>NaN</td>\n      <td>47</td>\n      <td>Don Valley Village (47)</td>\n      <td>5</td>\n    </tr>\n    <tr>\n      <th>5</th>\n      <td>-8.832963e+06</td>\n      <td>5.431006e+06</td>\n      <td>3363338</td>\n      <td>882079</td>\n      <td>2006</td>\n      <td>2006/01/06 05:00:00+00</td>\n      <td>2210</td>\n      <td>22</td>\n      <td>DON MILLS RD</td>\n      <td>LEITH HILL RD</td>\n      <td>...</td>\n      <td>NaN</td>\n      <td>NaN</td>\n      <td>NaN</td>\n      <td>NaN</td>\n      <td>NaN</td>\n      <td>NaN</td>\n      <td>NaN</td>\n      <td>47</td>\n      <td>Don Valley Village (47)</td>\n      <td>6</td>\n    </tr>\n    <tr>\n      <th>6</th>\n      <td>-8.856366e+06</td>\n      <td>5.422436e+06</td>\n      <td>3363864</td>\n      <td>882497</td>\n      <td>2006</td>\n      <td>2006/01/08 05:00:00+00</td>\n      <td>1828</td>\n      <td>18</td>\n      <td>ISLINGTON AVE</td>\n      <td>GOLFDOWN DR</td>\n      <td>...</td>\n      <td>NaN</td>\n      <td>Yes</td>\n      <td>NaN</td>\n      <td>Yes</td>\n      <td>NaN</td>\n      <td>NaN</td>\n      <td>NaN</td>\n      <td>5</td>\n      <td>Elms-Old Rexdale (5)</td>\n      <td>7</td>\n    </tr>\n    <tr>\n      <th>7</th>\n      <td>-8.856366e+06</td>\n      <td>5.422436e+06</td>\n      <td>3363865</td>\n      <td>882497</td>\n      <td>2006</td>\n      <td>2006/01/08 05:00:00+00</td>\n      <td>1828</td>\n      <td>18</td>\n      <td>ISLINGTON AVE</td>\n      <td>GOLFDOWN DR</td>\n      <td>...</td>\n      <td>NaN</td>\n      <td>Yes</td>\n      <td>NaN</td>\n      <td>Yes</td>\n      <td>NaN</td>\n      <td>NaN</td>\n      <td>NaN</td>\n      <td>5</td>\n      <td>Elms-Old Rexdale (5)</td>\n      <td>8</td>\n    </tr>\n    <tr>\n      <th>8</th>\n      <td>-8.856366e+06</td>\n      <td>5.422436e+06</td>\n      <td>3363866</td>\n      <td>882497</td>\n      <td>2006</td>\n      <td>2006/01/08 05:00:00+00</td>\n      <td>1828</td>\n      <td>18</td>\n      <td>ISLINGTON AVE</td>\n      <td>GOLFDOWN DR</td>\n      <td>...</td>\n      <td>NaN</td>\n      <td>Yes</td>\n      <td>NaN</td>\n      <td>Yes</td>\n      <td>NaN</td>\n      <td>NaN</td>\n      <td>NaN</td>\n      <td>5</td>\n      <td>Elms-Old Rexdale (5)</td>\n      <td>9</td>\n    </tr>\n    <tr>\n      <th>9</th>\n      <td>-8.856366e+06</td>\n      <td>5.422436e+06</td>\n      <td>3363867</td>\n      <td>882497</td>\n      <td>2006</td>\n      <td>2006/01/08 05:00:00+00</td>\n      <td>1828</td>\n      <td>18</td>\n      <td>ISLINGTON AVE</td>\n      <td>GOLFDOWN DR</td>\n      <td>...</td>\n      <td>NaN</td>\n      <td>Yes</td>\n      <td>NaN</td>\n      <td>Yes</td>\n      <td>NaN</td>\n      <td>NaN</td>\n      <td>NaN</td>\n      <td>5</td>\n      <td>Elms-Old Rexdale (5)</td>\n      <td>10</td>\n    </tr>\n  </tbody>\n</table>\n<p>10 rows × 56 columns</p>\n</div>"
     },
     "metadata": {},
     "execution_count": 3
    }
   ],
   "source": [
    "df = pd.read_csv(\"../src/data/pedestrian/Pedestrians.csv\")\n",
    "df.head(10)"
   ]
  },
  {
   "cell_type": "code",
   "execution_count": 4,
   "metadata": {},
   "outputs": [
    {
     "output_type": "execute_result",
     "data": {
      "text/plain": "(6484, 56)"
     },
     "metadata": {},
     "execution_count": 4
    }
   ],
   "source": [
    "df.shape"
   ]
  },
  {
   "cell_type": "code",
   "execution_count": 5,
   "metadata": {
    "tags": []
   },
   "outputs": [],
   "source": [
    "# df.info()"
   ]
  },
  {
   "cell_type": "code",
   "execution_count": 6,
   "metadata": {},
   "outputs": [],
   "source": [
    "#df.nunique()"
   ]
  },
  {
   "cell_type": "code",
   "execution_count": 7,
   "metadata": {},
   "outputs": [
    {
     "output_type": "execute_result",
     "data": {
      "text/plain": "                   X             Y        Index_        ACCNUM         YEAR  \\\ncount   6.484000e+03  6.484000e+03  6.484000e+03  6.484000e+03  6484.000000   \nunique           NaN           NaN           NaN           NaN          NaN   \ntop              NaN           NaN           NaN           NaN          NaN   \nfreq             NaN           NaN           NaN           NaN          NaN   \nmean   -8.837812e+06  5.420925e+06  3.333244e+07  2.391683e+09  2012.066471   \nstd     1.081386e+04  8.535799e+03  3.613835e+07  3.323854e+09     4.028327   \nmin    -8.863480e+06  5.402879e+06  3.363337e+06  8.820790e+05  2006.000000   \n25%    -8.844488e+06  5.413384e+06  5.374980e+06  1.089526e+06  2009.000000   \n50%    -8.838067e+06  5.419695e+06  7.459824e+06  1.299362e+06  2012.000000   \n75%    -8.829778e+06  5.428100e+06  8.056280e+07  6.000145e+09  2016.000000   \nmax    -8.808254e+06  5.440396e+06  8.140174e+07  9.002500e+09  2019.000000   \n\n                          DATE         TIME         HOUR   STREET1  \\\ncount                     6484  6484.000000  6484.000000      6484   \nunique                    1932          NaN          NaN       948   \ntop     2010/01/12 05:00:00+00          NaN          NaN  YONGE ST   \nfreq                        16          NaN          NaN       170   \nmean                       NaN  1384.851326    13.642659       NaN   \nstd                        NaN   609.631340     5.956279       NaN   \nmin                        NaN     0.000000     0.000000       NaN   \n25%                        NaN   935.000000     9.000000       NaN   \n50%                        NaN  1454.000000    14.000000       NaN   \n75%                        NaN  1900.000000    19.000000       NaN   \nmax                        NaN  2358.000000    23.000000       NaN   \n\n            STREET2  ... EMERG_VEH PASSENGER SPEEDING  AG_DRIV  REDLIGHT  \\\ncount          5897  ...         6      1071      319     2686       233   \nunique         1340  ...         1         1        1        1         1   \ntop     BATHURST ST  ...       Yes       Yes      Yes      Yes       Yes   \nfreq             79  ...         6      1071      319     2686       233   \nmean            NaN  ...       NaN       NaN      NaN      NaN       NaN   \nstd             NaN  ...       NaN       NaN      NaN      NaN       NaN   \nmin             NaN  ...       NaN       NaN      NaN      NaN       NaN   \n25%             NaN  ...       NaN       NaN      NaN      NaN       NaN   \n50%             NaN  ...       NaN       NaN      NaN      NaN       NaN   \n75%             NaN  ...       NaN       NaN      NaN      NaN       NaN   \nmax             NaN  ...       NaN       NaN      NaN      NaN       NaN   \n\n        ALCOHOL  DISABILITY      Hood_ID  \\\ncount       138          48  6484.000000   \nunique        1           1          NaN   \ntop         Yes         Yes          NaN   \nfreq        138          48          NaN   \nmean        NaN         NaN    76.493523   \nstd         NaN         NaN    39.407154   \nmin         NaN         NaN     1.000000   \n25%         NaN         NaN    45.750000   \n50%         NaN         NaN    77.000000   \n75%         NaN         NaN   111.000000   \nmax         NaN         NaN   140.000000   \n\n                                 Neighbourhood     ObjectId  \ncount                                     6484  6484.000000  \nunique                                     139          NaN  \ntop     Waterfront Communities-The Island (77)          NaN  \nfreq                                       240          NaN  \nmean                                       NaN  3242.500000  \nstd                                        NaN  1871.913905  \nmin                                        NaN     1.000000  \n25%                                        NaN  1621.750000  \n50%                                        NaN  3242.500000  \n75%                                        NaN  4863.250000  \nmax                                        NaN  6484.000000  \n\n[11 rows x 56 columns]",
      "text/html": "<div>\n<style scoped>\n    .dataframe tbody tr th:only-of-type {\n        vertical-align: middle;\n    }\n\n    .dataframe tbody tr th {\n        vertical-align: top;\n    }\n\n    .dataframe thead th {\n        text-align: right;\n    }\n</style>\n<table border=\"1\" class=\"dataframe\">\n  <thead>\n    <tr style=\"text-align: right;\">\n      <th></th>\n      <th>X</th>\n      <th>Y</th>\n      <th>Index_</th>\n      <th>ACCNUM</th>\n      <th>YEAR</th>\n      <th>DATE</th>\n      <th>TIME</th>\n      <th>HOUR</th>\n      <th>STREET1</th>\n      <th>STREET2</th>\n      <th>...</th>\n      <th>EMERG_VEH</th>\n      <th>PASSENGER</th>\n      <th>SPEEDING</th>\n      <th>AG_DRIV</th>\n      <th>REDLIGHT</th>\n      <th>ALCOHOL</th>\n      <th>DISABILITY</th>\n      <th>Hood_ID</th>\n      <th>Neighbourhood</th>\n      <th>ObjectId</th>\n    </tr>\n  </thead>\n  <tbody>\n    <tr>\n      <th>count</th>\n      <td>6.484000e+03</td>\n      <td>6.484000e+03</td>\n      <td>6.484000e+03</td>\n      <td>6.484000e+03</td>\n      <td>6484.000000</td>\n      <td>6484</td>\n      <td>6484.000000</td>\n      <td>6484.000000</td>\n      <td>6484</td>\n      <td>5897</td>\n      <td>...</td>\n      <td>6</td>\n      <td>1071</td>\n      <td>319</td>\n      <td>2686</td>\n      <td>233</td>\n      <td>138</td>\n      <td>48</td>\n      <td>6484.000000</td>\n      <td>6484</td>\n      <td>6484.000000</td>\n    </tr>\n    <tr>\n      <th>unique</th>\n      <td>NaN</td>\n      <td>NaN</td>\n      <td>NaN</td>\n      <td>NaN</td>\n      <td>NaN</td>\n      <td>1932</td>\n      <td>NaN</td>\n      <td>NaN</td>\n      <td>948</td>\n      <td>1340</td>\n      <td>...</td>\n      <td>1</td>\n      <td>1</td>\n      <td>1</td>\n      <td>1</td>\n      <td>1</td>\n      <td>1</td>\n      <td>1</td>\n      <td>NaN</td>\n      <td>139</td>\n      <td>NaN</td>\n    </tr>\n    <tr>\n      <th>top</th>\n      <td>NaN</td>\n      <td>NaN</td>\n      <td>NaN</td>\n      <td>NaN</td>\n      <td>NaN</td>\n      <td>2010/01/12 05:00:00+00</td>\n      <td>NaN</td>\n      <td>NaN</td>\n      <td>YONGE ST</td>\n      <td>BATHURST ST</td>\n      <td>...</td>\n      <td>Yes</td>\n      <td>Yes</td>\n      <td>Yes</td>\n      <td>Yes</td>\n      <td>Yes</td>\n      <td>Yes</td>\n      <td>Yes</td>\n      <td>NaN</td>\n      <td>Waterfront Communities-The Island (77)</td>\n      <td>NaN</td>\n    </tr>\n    <tr>\n      <th>freq</th>\n      <td>NaN</td>\n      <td>NaN</td>\n      <td>NaN</td>\n      <td>NaN</td>\n      <td>NaN</td>\n      <td>16</td>\n      <td>NaN</td>\n      <td>NaN</td>\n      <td>170</td>\n      <td>79</td>\n      <td>...</td>\n      <td>6</td>\n      <td>1071</td>\n      <td>319</td>\n      <td>2686</td>\n      <td>233</td>\n      <td>138</td>\n      <td>48</td>\n      <td>NaN</td>\n      <td>240</td>\n      <td>NaN</td>\n    </tr>\n    <tr>\n      <th>mean</th>\n      <td>-8.837812e+06</td>\n      <td>5.420925e+06</td>\n      <td>3.333244e+07</td>\n      <td>2.391683e+09</td>\n      <td>2012.066471</td>\n      <td>NaN</td>\n      <td>1384.851326</td>\n      <td>13.642659</td>\n      <td>NaN</td>\n      <td>NaN</td>\n      <td>...</td>\n      <td>NaN</td>\n      <td>NaN</td>\n      <td>NaN</td>\n      <td>NaN</td>\n      <td>NaN</td>\n      <td>NaN</td>\n      <td>NaN</td>\n      <td>76.493523</td>\n      <td>NaN</td>\n      <td>3242.500000</td>\n    </tr>\n    <tr>\n      <th>std</th>\n      <td>1.081386e+04</td>\n      <td>8.535799e+03</td>\n      <td>3.613835e+07</td>\n      <td>3.323854e+09</td>\n      <td>4.028327</td>\n      <td>NaN</td>\n      <td>609.631340</td>\n      <td>5.956279</td>\n      <td>NaN</td>\n      <td>NaN</td>\n      <td>...</td>\n      <td>NaN</td>\n      <td>NaN</td>\n      <td>NaN</td>\n      <td>NaN</td>\n      <td>NaN</td>\n      <td>NaN</td>\n      <td>NaN</td>\n      <td>39.407154</td>\n      <td>NaN</td>\n      <td>1871.913905</td>\n    </tr>\n    <tr>\n      <th>min</th>\n      <td>-8.863480e+06</td>\n      <td>5.402879e+06</td>\n      <td>3.363337e+06</td>\n      <td>8.820790e+05</td>\n      <td>2006.000000</td>\n      <td>NaN</td>\n      <td>0.000000</td>\n      <td>0.000000</td>\n      <td>NaN</td>\n      <td>NaN</td>\n      <td>...</td>\n      <td>NaN</td>\n      <td>NaN</td>\n      <td>NaN</td>\n      <td>NaN</td>\n      <td>NaN</td>\n      <td>NaN</td>\n      <td>NaN</td>\n      <td>1.000000</td>\n      <td>NaN</td>\n      <td>1.000000</td>\n    </tr>\n    <tr>\n      <th>25%</th>\n      <td>-8.844488e+06</td>\n      <td>5.413384e+06</td>\n      <td>5.374980e+06</td>\n      <td>1.089526e+06</td>\n      <td>2009.000000</td>\n      <td>NaN</td>\n      <td>935.000000</td>\n      <td>9.000000</td>\n      <td>NaN</td>\n      <td>NaN</td>\n      <td>...</td>\n      <td>NaN</td>\n      <td>NaN</td>\n      <td>NaN</td>\n      <td>NaN</td>\n      <td>NaN</td>\n      <td>NaN</td>\n      <td>NaN</td>\n      <td>45.750000</td>\n      <td>NaN</td>\n      <td>1621.750000</td>\n    </tr>\n    <tr>\n      <th>50%</th>\n      <td>-8.838067e+06</td>\n      <td>5.419695e+06</td>\n      <td>7.459824e+06</td>\n      <td>1.299362e+06</td>\n      <td>2012.000000</td>\n      <td>NaN</td>\n      <td>1454.000000</td>\n      <td>14.000000</td>\n      <td>NaN</td>\n      <td>NaN</td>\n      <td>...</td>\n      <td>NaN</td>\n      <td>NaN</td>\n      <td>NaN</td>\n      <td>NaN</td>\n      <td>NaN</td>\n      <td>NaN</td>\n      <td>NaN</td>\n      <td>77.000000</td>\n      <td>NaN</td>\n      <td>3242.500000</td>\n    </tr>\n    <tr>\n      <th>75%</th>\n      <td>-8.829778e+06</td>\n      <td>5.428100e+06</td>\n      <td>8.056280e+07</td>\n      <td>6.000145e+09</td>\n      <td>2016.000000</td>\n      <td>NaN</td>\n      <td>1900.000000</td>\n      <td>19.000000</td>\n      <td>NaN</td>\n      <td>NaN</td>\n      <td>...</td>\n      <td>NaN</td>\n      <td>NaN</td>\n      <td>NaN</td>\n      <td>NaN</td>\n      <td>NaN</td>\n      <td>NaN</td>\n      <td>NaN</td>\n      <td>111.000000</td>\n      <td>NaN</td>\n      <td>4863.250000</td>\n    </tr>\n    <tr>\n      <th>max</th>\n      <td>-8.808254e+06</td>\n      <td>5.440396e+06</td>\n      <td>8.140174e+07</td>\n      <td>9.002500e+09</td>\n      <td>2019.000000</td>\n      <td>NaN</td>\n      <td>2358.000000</td>\n      <td>23.000000</td>\n      <td>NaN</td>\n      <td>NaN</td>\n      <td>...</td>\n      <td>NaN</td>\n      <td>NaN</td>\n      <td>NaN</td>\n      <td>NaN</td>\n      <td>NaN</td>\n      <td>NaN</td>\n      <td>NaN</td>\n      <td>140.000000</td>\n      <td>NaN</td>\n      <td>6484.000000</td>\n    </tr>\n  </tbody>\n</table>\n<p>11 rows × 56 columns</p>\n</div>"
     },
     "metadata": {},
     "execution_count": 7
    }
   ],
   "source": [
    "df.describe(include='all')"
   ]
  },
  {
   "cell_type": "markdown",
   "metadata": {},
   "source": [
    "## Data Manipulation and Cleaning"
   ]
  },
  {
   "cell_type": "markdown",
   "metadata": {},
   "source": [
    "### Uniquie Identifiers"
   ]
  },
  {
   "cell_type": "markdown",
   "metadata": {},
   "source": [
    "Nothing to alter here, just need to remove ObjectId at the end, because it's repeated."
   ]
  },
  {
   "cell_type": "markdown",
   "metadata": {},
   "source": [
    "### Time"
   ]
  },
  {
   "cell_type": "code",
   "execution_count": 8,
   "metadata": {},
   "outputs": [
    {
     "output_type": "execute_result",
     "data": {
      "text/plain": "0      2006-01-02 07:05:00\n1      2006-01-02 07:05:00\n2      2006-01-04 19:40:00\n3      2006-01-04 19:40:00\n4      2006-01-06 22:10:00\n               ...        \n6479   2019-06-25 20:02:00\n6480   2019-06-25 20:02:00\n6481   2019-06-26 09:02:00\n6482   2019-06-26 09:02:00\n6483   2019-06-27 18:50:00\nName: DATE_TIME, Length: 6484, dtype: datetime64[ns]"
     },
     "metadata": {},
     "execution_count": 8
    }
   ],
   "source": [
    "# FIXING DATE\n",
    "df['MY_DATE'] = pd.to_datetime(df['DATE'], errors='coerce', format='%Y/%m/%d').dt.date\n",
    "\n",
    "# FIXING HOUR\n",
    "df['MY_HOUR'] = df['HOUR'].map('{:02d}'.format)\n",
    "\n",
    "# FIXING MINUTE\n",
    "df['MY_MIN'] = df['TIME'] - (df['HOUR'] * 100)\n",
    "\n",
    "# THERE ARE ABOUT 130 ROWS WITH MINUTE PROBLEM, AFTER THE ABOVE CONVERSION\n",
    "# we will just change minute data to \"0\"\n",
    "# wrong\n",
    "df['MY_MIN'][df['MY_MIN'] < 0] = 0\n",
    "\n",
    "# CHECKING CODE\n",
    "#df.set_index('MY_DATE', inplace=True)\n",
    "#df['MY_DATE'].head(5)\n",
    "#df[['TIME', 'MY_MIN']]\n",
    "df['DATE_TIME'] = pd.to_datetime(df['MY_DATE'].apply(lambda x: x.strftime('%Y-%m-%d')) + ' ' + df['MY_HOUR'].astype(str) + ':' + df['MY_MIN'].astype(str))\n",
    "df['DATE_TIME']\n"
   ]
  },
  {
   "cell_type": "code",
   "execution_count": 9,
   "metadata": {},
   "outputs": [],
   "source": [
    "df['DATE'] = pd.to_datetime(df['DATE'], errors='coerce', format='%Y/%m/%d')"
   ]
  },
  {
   "cell_type": "markdown",
   "metadata": {},
   "source": [
    "set 'DATE_TIME' to be indexable to make search easier"
   ]
  },
  {
   "cell_type": "code",
   "execution_count": 10,
   "metadata": {},
   "outputs": [
    {
     "output_type": "execute_result",
     "data": {
      "text/plain": "                                X             Y   Index_  ACCNUM  YEAR  \\\nDATE_TIME                                                                \n2006-01-02 07:05:00 -8.839464e+06  5.411883e+06  3366651  884090  2006   \n2006-01-02 07:05:00 -8.839464e+06  5.411883e+06  3366652  884090  2006   \n2006-01-04 19:40:00 -8.842507e+06  5.412229e+06  3370333  885782  2006   \n2006-01-04 19:40:00 -8.842507e+06  5.412229e+06  3370334  885782  2006   \n2006-01-06 22:10:00 -8.832963e+06  5.431006e+06  3363337  882079  2006   \n\n                                         DATE  TIME  HOUR       STREET1  \\\nDATE_TIME                                                                 \n2006-01-02 07:05:00 2006-01-02 05:00:00+00:00   705     7   BATHURST ST   \n2006-01-02 07:05:00 2006-01-02 05:00:00+00:00   705     7   BATHURST ST   \n2006-01-04 19:40:00 2006-01-04 05:00:00+00:00  1940    19   DUFFERIN ST   \n2006-01-04 19:40:00 2006-01-04 05:00:00+00:00  1940    19   DUFFERIN ST   \n2006-01-06 22:10:00 2006-01-06 05:00:00+00:00  2210    22  DON MILLS RD   \n\n                           STREET2  ... EMERG_VEH PASSENGER SPEEDING  AG_DRIV  \\\nDATE_TIME                           ...                                         \n2006-01-02 07:05:00    DUNDAS ST W  ...       NaN       NaN      NaN      NaN   \n2006-01-02 07:05:00    DUNDAS ST W  ...       NaN       NaN      NaN      NaN   \n2006-01-04 19:40:00     SYLVAN AVE  ...       NaN       NaN      NaN      NaN   \n2006-01-04 19:40:00     SYLVAN AVE  ...       NaN       NaN      NaN      NaN   \n2006-01-06 22:10:00  LEITH HILL RD  ...       NaN       NaN      NaN      NaN   \n\n                     REDLIGHT  ALCOHOL  DISABILITY Hood_ID  \\\nDATE_TIME                                                    \n2006-01-02 07:05:00       NaN      NaN         NaN      78   \n2006-01-02 07:05:00       NaN      NaN         NaN      78   \n2006-01-04 19:40:00       NaN      NaN         NaN      83   \n2006-01-04 19:40:00       NaN      NaN         NaN      83   \n2006-01-06 22:10:00       NaN      NaN         NaN      47   \n\n                                 Neighbourhood ObjectId  \nDATE_TIME                                                \n2006-01-02 07:05:00  Kensington-Chinatown (78)        1  \n2006-01-02 07:05:00  Kensington-Chinatown (78)        2  \n2006-01-04 19:40:00        Dufferin Grove (83)        3  \n2006-01-04 19:40:00        Dufferin Grove (83)        4  \n2006-01-06 22:10:00    Don Valley Village (47)        5  \n\n[5 rows x 56 columns]",
      "text/html": "<div>\n<style scoped>\n    .dataframe tbody tr th:only-of-type {\n        vertical-align: middle;\n    }\n\n    .dataframe tbody tr th {\n        vertical-align: top;\n    }\n\n    .dataframe thead th {\n        text-align: right;\n    }\n</style>\n<table border=\"1\" class=\"dataframe\">\n  <thead>\n    <tr style=\"text-align: right;\">\n      <th></th>\n      <th>X</th>\n      <th>Y</th>\n      <th>Index_</th>\n      <th>ACCNUM</th>\n      <th>YEAR</th>\n      <th>DATE</th>\n      <th>TIME</th>\n      <th>HOUR</th>\n      <th>STREET1</th>\n      <th>STREET2</th>\n      <th>...</th>\n      <th>EMERG_VEH</th>\n      <th>PASSENGER</th>\n      <th>SPEEDING</th>\n      <th>AG_DRIV</th>\n      <th>REDLIGHT</th>\n      <th>ALCOHOL</th>\n      <th>DISABILITY</th>\n      <th>Hood_ID</th>\n      <th>Neighbourhood</th>\n      <th>ObjectId</th>\n    </tr>\n    <tr>\n      <th>DATE_TIME</th>\n      <th></th>\n      <th></th>\n      <th></th>\n      <th></th>\n      <th></th>\n      <th></th>\n      <th></th>\n      <th></th>\n      <th></th>\n      <th></th>\n      <th></th>\n      <th></th>\n      <th></th>\n      <th></th>\n      <th></th>\n      <th></th>\n      <th></th>\n      <th></th>\n      <th></th>\n      <th></th>\n      <th></th>\n    </tr>\n  </thead>\n  <tbody>\n    <tr>\n      <th>2006-01-02 07:05:00</th>\n      <td>-8.839464e+06</td>\n      <td>5.411883e+06</td>\n      <td>3366651</td>\n      <td>884090</td>\n      <td>2006</td>\n      <td>2006-01-02 05:00:00+00:00</td>\n      <td>705</td>\n      <td>7</td>\n      <td>BATHURST ST</td>\n      <td>DUNDAS ST W</td>\n      <td>...</td>\n      <td>NaN</td>\n      <td>NaN</td>\n      <td>NaN</td>\n      <td>NaN</td>\n      <td>NaN</td>\n      <td>NaN</td>\n      <td>NaN</td>\n      <td>78</td>\n      <td>Kensington-Chinatown (78)</td>\n      <td>1</td>\n    </tr>\n    <tr>\n      <th>2006-01-02 07:05:00</th>\n      <td>-8.839464e+06</td>\n      <td>5.411883e+06</td>\n      <td>3366652</td>\n      <td>884090</td>\n      <td>2006</td>\n      <td>2006-01-02 05:00:00+00:00</td>\n      <td>705</td>\n      <td>7</td>\n      <td>BATHURST ST</td>\n      <td>DUNDAS ST W</td>\n      <td>...</td>\n      <td>NaN</td>\n      <td>NaN</td>\n      <td>NaN</td>\n      <td>NaN</td>\n      <td>NaN</td>\n      <td>NaN</td>\n      <td>NaN</td>\n      <td>78</td>\n      <td>Kensington-Chinatown (78)</td>\n      <td>2</td>\n    </tr>\n    <tr>\n      <th>2006-01-04 19:40:00</th>\n      <td>-8.842507e+06</td>\n      <td>5.412229e+06</td>\n      <td>3370333</td>\n      <td>885782</td>\n      <td>2006</td>\n      <td>2006-01-04 05:00:00+00:00</td>\n      <td>1940</td>\n      <td>19</td>\n      <td>DUFFERIN ST</td>\n      <td>SYLVAN AVE</td>\n      <td>...</td>\n      <td>NaN</td>\n      <td>NaN</td>\n      <td>NaN</td>\n      <td>NaN</td>\n      <td>NaN</td>\n      <td>NaN</td>\n      <td>NaN</td>\n      <td>83</td>\n      <td>Dufferin Grove (83)</td>\n      <td>3</td>\n    </tr>\n    <tr>\n      <th>2006-01-04 19:40:00</th>\n      <td>-8.842507e+06</td>\n      <td>5.412229e+06</td>\n      <td>3370334</td>\n      <td>885782</td>\n      <td>2006</td>\n      <td>2006-01-04 05:00:00+00:00</td>\n      <td>1940</td>\n      <td>19</td>\n      <td>DUFFERIN ST</td>\n      <td>SYLVAN AVE</td>\n      <td>...</td>\n      <td>NaN</td>\n      <td>NaN</td>\n      <td>NaN</td>\n      <td>NaN</td>\n      <td>NaN</td>\n      <td>NaN</td>\n      <td>NaN</td>\n      <td>83</td>\n      <td>Dufferin Grove (83)</td>\n      <td>4</td>\n    </tr>\n    <tr>\n      <th>2006-01-06 22:10:00</th>\n      <td>-8.832963e+06</td>\n      <td>5.431006e+06</td>\n      <td>3363337</td>\n      <td>882079</td>\n      <td>2006</td>\n      <td>2006-01-06 05:00:00+00:00</td>\n      <td>2210</td>\n      <td>22</td>\n      <td>DON MILLS RD</td>\n      <td>LEITH HILL RD</td>\n      <td>...</td>\n      <td>NaN</td>\n      <td>NaN</td>\n      <td>NaN</td>\n      <td>NaN</td>\n      <td>NaN</td>\n      <td>NaN</td>\n      <td>NaN</td>\n      <td>47</td>\n      <td>Don Valley Village (47)</td>\n      <td>5</td>\n    </tr>\n  </tbody>\n</table>\n<p>5 rows × 56 columns</p>\n</div>"
     },
     "metadata": {},
     "execution_count": 10
    }
   ],
   "source": [
    "df = df.drop(['MY_DATE', 'MY_HOUR', 'MY_MIN'], axis=1)\n",
    "df.set_index('DATE_TIME', inplace=True)\n",
    "df.sort_index()\n",
    "df.head(5)"
   ]
  },
  {
   "cell_type": "markdown",
   "metadata": {},
   "source": [
    "### Location\n"
   ]
  },
  {
   "cell_type": "markdown",
   "metadata": {},
   "source": [
    "#### District"
   ]
  },
  {
   "cell_type": "markdown",
   "metadata": {},
   "source": [
    "#### STREET1 & STREET2\n",
    "see in the next section for combining and pinpoint interesection"
   ]
  },
  {
   "cell_type": "markdown",
   "metadata": {},
   "source": [
    "#### LATITUDE & LONGITUDE\n",
    "see in the next section for more geospatial visualization"
   ]
  },
  {
   "cell_type": "markdown",
   "metadata": {},
   "source": [
    "### Location Class\n",
    "'ROAD_CLASS', 'LOCCOORD', 'ACCLOC', 'TRAFFCTL'"
   ]
  },
  {
   "cell_type": "code",
   "execution_count": 11,
   "metadata": {
    "tags": []
   },
   "outputs": [],
   "source": [
    "location_class_list = ['ROAD_CLASS', 'LOCCOORD', 'ACCLOC', 'TRAFFCTL']"
   ]
  },
  {
   "cell_type": "markdown",
   "metadata": {},
   "source": [
    "### Road Conditions\n",
    "'VISIBILITY', 'LIGHT', 'RDSFCOND'"
   ]
  },
  {
   "cell_type": "code",
   "execution_count": 12,
   "metadata": {
    "tags": []
   },
   "outputs": [],
   "source": [
    "road_conditions_list = ['VISIBILITY', 'LIGHT', 'RDSFCOND']"
   ]
  },
  {
   "cell_type": "markdown",
   "metadata": {},
   "source": [
    "### Accident Class\n",
    "'ACCLASS', 'IMPACTYPE'"
   ]
  },
  {
   "cell_type": "code",
   "execution_count": 13,
   "metadata": {
    "tags": []
   },
   "outputs": [],
   "source": [
    "accident_class_list = ['ACCLASS', 'IMPACTYPE']"
   ]
  },
  {
   "cell_type": "code",
   "execution_count": 14,
   "metadata": {},
   "outputs": [],
   "source": [
    "# IMPACTYPE has no significant value, we will remove it.\n",
    "accident_class_list.remove('IMPACTYPE')"
   ]
  },
  {
   "cell_type": "markdown",
   "metadata": {},
   "source": [
    "### Involvement Class\n",
    "'INVTYPE', 'INVAGE', 'INJURY', 'FATAL_NO'"
   ]
  },
  {
   "cell_type": "code",
   "execution_count": 15,
   "metadata": {
    "tags": []
   },
   "outputs": [],
   "source": [
    "involvement_class_list = ['INVTYPE', 'INVAGE', 'INJURY', 'FATAL_NO']"
   ]
  },
  {
   "cell_type": "markdown",
   "metadata": {},
   "source": [
    "### Vehicle Related\n",
    "'INITDIR', 'VEHTYPE', 'MANOEUVER', 'DRIVACT', 'DRIVCOND'"
   ]
  },
  {
   "cell_type": "code",
   "execution_count": 16,
   "metadata": {
    "tags": []
   },
   "outputs": [],
   "source": [
    "vehicle_related_list = ['INITDIR', 'VEHTYPE', 'MANOEUVER', 'DRIVACT', 'DRIVCOND']"
   ]
  },
  {
   "cell_type": "markdown",
   "metadata": {},
   "source": [
    "### Pedestrian Related\n",
    "'PEDTYPE', 'PEDACT', 'PEDCOND'"
   ]
  },
  {
   "cell_type": "code",
   "execution_count": 17,
   "metadata": {
    "tags": []
   },
   "outputs": [],
   "source": [
    "pedestrian_related_list = ['PEDTYPE', 'PEDACT', 'PEDCOND']"
   ]
  },
  {
   "cell_type": "markdown",
   "metadata": {},
   "source": [
    "### Cyclist Related\n",
    "'CYCLISTYPE', 'CYCACT', 'CYCCOND'"
   ]
  },
  {
   "cell_type": "code",
   "execution_count": 18,
   "metadata": {
    "tags": []
   },
   "outputs": [],
   "source": [
    "cyclist_related_list = ['CYCLISTYPE', 'CYCACT', 'CYCCOND']"
   ]
  },
  {
   "cell_type": "markdown",
   "metadata": {},
   "source": [
    "### Pedestrian Column"
   ]
  },
  {
   "cell_type": "code",
   "execution_count": 19,
   "metadata": {},
   "outputs": [
    {
     "output_type": "execute_result",
     "data": {
      "text/plain": "count     6484\nunique       1\ntop        Yes\nfreq      6484\nName: PEDESTRIAN, dtype: object"
     },
     "metadata": {},
     "execution_count": 19
    }
   ],
   "source": [
    "test = df['PEDESTRIAN']\n",
    "test.describe()"
   ]
  },
  {
   "cell_type": "markdown",
   "metadata": {},
   "source": [
    "We can safely remove this column"
   ]
  },
  {
   "cell_type": "markdown",
   "metadata": {},
   "source": [
    "### Parties Involved\n",
    "'CYCLIST', 'AUTOMOBILE', 'MOTORCYCLE', 'TRUCK', 'TRSN_CITY_VEH', 'EMERG_VEH', 'PASSENGER'"
   ]
  },
  {
   "cell_type": "code",
   "execution_count": 20,
   "metadata": {
    "tags": []
   },
   "outputs": [],
   "source": [
    "parties_involved_list = ['CYCLIST', 'AUTOMOBILE', 'MOTORCYCLE', 'TRUCK', 'TRSN_CITY_VEH', 'EMERG_VEH', 'PASSENGER']"
   ]
  },
  {
   "cell_type": "markdown",
   "metadata": {},
   "source": [
    "### Driving Behaviors\n",
    "'SPEEDING', 'AG_DRIV', 'REDLIGHT', 'ALCOHOL', 'DISABILITY'"
   ]
  },
  {
   "cell_type": "code",
   "execution_count": 21,
   "metadata": {
    "tags": []
   },
   "outputs": [],
   "source": [
    "driving_behaviors_list = ['SPEEDING', 'AG_DRIV', 'REDLIGHT', 'ALCOHOL', 'DISABILITY']"
   ]
  },
  {
   "cell_type": "markdown",
   "metadata": {},
   "source": [
    "### Police Control\n",
    "'WardNum', 'Division', 'Hood_ID', 'Neighbourhood'"
   ]
  },
  {
   "cell_type": "code",
   "execution_count": 22,
   "metadata": {
    "tags": []
   },
   "outputs": [],
   "source": [
    "police_control_list = ['WardNum', 'Division', 'Hood_ID', 'Neighbourhood']"
   ]
  },
  {
   "cell_type": "markdown",
   "metadata": {},
   "source": [
    "## Feature Engineering and Data Conversion"
   ]
  },
  {
   "cell_type": "markdown",
   "metadata": {},
   "source": [
    "### Columns to be removed"
   ]
  },
  {
   "cell_type": "code",
   "execution_count": 23,
   "metadata": {},
   "outputs": [],
   "source": [
    "# columns_to_delete = ['X', 'Y', 'FATAL_NO', 'PEDESTRIAN', 'ObjectId']\n",
    "# LET'S NOT DELETE 'PEDESTRIAN' at this point\n",
    "#columns_to_delete1 = ['X', 'Y', 'FATAL_NO', 'ObjectId']\n",
    "columns_to_delete1 = ['X', 'Y', 'ObjectId']\n",
    "df = df.drop(columns_to_delete1, axis=1)\n",
    "columns_to_delete2 = ['IMPACTYPE']\n",
    "df = df.drop(columns_to_delete2, axis=1)\n",
    "# df"
   ]
  },
  {
   "cell_type": "markdown",
   "metadata": {},
   "source": [
    "### Converting Columns with 'Yes' Labels into boolean data type"
   ]
  },
  {
   "cell_type": "code",
   "execution_count": 24,
   "metadata": {},
   "outputs": [],
   "source": [
    "def convert_to_bool_type(columns):\n",
    "    for i in columns:\n",
    "        #df['CYCLIST'] = np.where(df['CYCLIST'] == 'Yes', True, False)\n",
    "        df[i] = np.where(df[i] == 'Yes', True, False)"
   ]
  },
  {
   "cell_type": "code",
   "execution_count": 25,
   "metadata": {},
   "outputs": [],
   "source": [
    "columns_obj_to_boolean = ['PEDESTRIAN', 'CYCLIST', 'AUTOMOBILE', 'MOTORCYCLE', 'TRUCK', 'TRSN_CITY_VEH', 'EMERG_VEH', 'PASSENGER', 'SPEEDING', 'AG_DRIV', 'REDLIGHT', 'ALCOHOL', 'DISABILITY']\n",
    "convert_to_bool_type(columns_obj_to_boolean)"
   ]
  },
  {
   "cell_type": "code",
   "execution_count": 26,
   "metadata": {},
   "outputs": [],
   "source": [
    "df['ACCLASS'] = np.where(df['ACCLASS'] == 'Fatal', True, False)"
   ]
  },
  {
   "cell_type": "code",
   "execution_count": 27,
   "metadata": {},
   "outputs": [],
   "source": [
    "#df['IMPACTYPE'] = np.where(df['IMPACTYPE'] == 'Pedestrian Collisions', True, False)"
   ]
  },
  {
   "cell_type": "markdown",
   "metadata": {},
   "source": [
    "### Converting Columns to Categorical Units\n",
    "\n",
    "how to convert cat to num  \n",
    "https://stackoverflow.com/questions/38088652/pandas-convert-categories-to-numbers"
   ]
  },
  {
   "cell_type": "code",
   "execution_count": 28,
   "metadata": {},
   "outputs": [],
   "source": [
    "columns_obj_to_cat1 = ['District', 'WardNum']\n",
    "columns_obj_to_cat2 = ['ROAD_CLASS', 'LOCCOORD', 'ACCLOC', 'TRAFFCTL']\n",
    "columns_obj_to_cat3 = ['VISIBILITY', 'LIGHT', 'RDSFCOND']\n",
    "columns_obj_to_cat4 = ['INVTYPE', 'INJURY']\n",
    "columns_obj_to_cat5 = ['INITDIR', 'VEHTYPE', 'MANOEUVER', 'DRIVACT', 'DRIVCOND']\n",
    "columns_obj_to_cat6 = ['PEDTYPE', 'PEDACT', 'PEDCOND', 'CYCLISTYPE', 'CYCACT', 'CYCCOND']\n",
    "\n",
    "li_cat_cols = [columns_obj_to_cat1, columns_obj_to_cat2, columns_obj_to_cat3, columns_obj_to_cat4, columns_obj_to_cat5, columns_obj_to_cat6]"
   ]
  },
  {
   "cell_type": "code",
   "execution_count": 29,
   "metadata": {},
   "outputs": [],
   "source": [
    "for i in li_cat_cols:\n",
    "    for j in i:\n",
    "        name_mod = j + '_cc'\n",
    "        df[j] = pd.Categorical(df[j])\n",
    "        df[name_mod] = df[j].cat.codes\n",
    "        # df[name_mod] = df[j].astype('category').cat.codes"
   ]
  },
  {
   "cell_type": "code",
   "execution_count": 30,
   "metadata": {
    "tags": []
   },
   "outputs": [
    {
     "output_type": "stream",
     "name": "stdout",
     "text": "<class 'pandas.core.frame.DataFrame'>\nDatetimeIndex: 6484 entries, 2006-01-02 07:05:00 to 2019-06-27 18:50:00\nData columns (total 74 columns):\n #   Column         Non-Null Count  Dtype              \n---  ------         --------------  -----              \n 0   Index_         6484 non-null   int64              \n 1   ACCNUM         6484 non-null   int64              \n 2   YEAR           6484 non-null   int64              \n 3   DATE           6484 non-null   datetime64[ns, UTC]\n 4   TIME           6484 non-null   int64              \n 5   HOUR           6484 non-null   int64              \n 6   STREET1        6484 non-null   object             \n 7   STREET2        5897 non-null   object             \n 8   OFFSET         916 non-null    object             \n 9   ROAD_CLASS     6457 non-null   category           \n 10  District       6482 non-null   category           \n 11  WardNum        5464 non-null   category           \n 12  Division       6484 non-null   int64              \n 13  LATITUDE       6484 non-null   float64            \n 14  LONGITUDE      6484 non-null   float64            \n 15  LOCCOORD       6446 non-null   category           \n 16  ACCLOC         4391 non-null   category           \n 17  TRAFFCTL       6477 non-null   category           \n 18  VISIBILITY     6470 non-null   category           \n 19  LIGHT          6484 non-null   category           \n 20  RDSFCOND       6472 non-null   category           \n 21  ACCLASS        6484 non-null   bool               \n 22  INVTYPE        6477 non-null   category           \n 23  INVAGE         6484 non-null   object             \n 24  INJURY         5920 non-null   category           \n 25  FATAL_NO       393 non-null    float64            \n 26  INITDIR        5109 non-null   category           \n 27  VEHTYPE        5047 non-null   category           \n 28  MANOEUVER      2861 non-null   category           \n 29  DRIVACT        2661 non-null   category           \n 30  DRIVCOND       2659 non-null   category           \n 31  PEDTYPE        2570 non-null   category           \n 32  PEDACT         2564 non-null   category           \n 33  PEDCOND        2684 non-null   category           \n 34  CYCLISTYPE     15 non-null     category           \n 35  CYCACT         15 non-null     category           \n 36  CYCCOND        15 non-null     category           \n 37  PEDESTRIAN     6484 non-null   bool               \n 38  CYCLIST        6484 non-null   bool               \n 39  AUTOMOBILE     6484 non-null   bool               \n 40  MOTORCYCLE     6484 non-null   bool               \n 41  TRUCK          6484 non-null   bool               \n 42  TRSN_CITY_VEH  6484 non-null   bool               \n 43  EMERG_VEH      6484 non-null   bool               \n 44  PASSENGER      6484 non-null   bool               \n 45  SPEEDING       6484 non-null   bool               \n 46  AG_DRIV        6484 non-null   bool               \n 47  REDLIGHT       6484 non-null   bool               \n 48  ALCOHOL        6484 non-null   bool               \n 49  DISABILITY     6484 non-null   bool               \n 50  Hood_ID        6484 non-null   int64              \n 51  Neighbourhood  6484 non-null   object             \n 52  ROAD_CLASS_cc  6484 non-null   int8               \n 53  District_cc    6484 non-null   int8               \n 54  WardNum_cc     6484 non-null   int8               \n 55  LOCCOORD_cc    6484 non-null   int8               \n 56  ACCLOC_cc      6484 non-null   int8               \n 57  TRAFFCTL_cc    6484 non-null   int8               \n 58  VISIBILITY_cc  6484 non-null   int8               \n 59  LIGHT_cc       6484 non-null   int8               \n 60  RDSFCOND_cc    6484 non-null   int8               \n 61  INVTYPE_cc     6484 non-null   int8               \n 62  INJURY_cc      6484 non-null   int8               \n 63  INITDIR_cc     6484 non-null   int8               \n 64  VEHTYPE_cc     6484 non-null   int8               \n 65  MANOEUVER_cc   6484 non-null   int8               \n 66  DRIVACT_cc     6484 non-null   int8               \n 67  DRIVCOND_cc    6484 non-null   int8               \n 68  PEDTYPE_cc     6484 non-null   int8               \n 69  PEDACT_cc      6484 non-null   int8               \n 70  PEDCOND_cc     6484 non-null   int8               \n 71  CYCLISTYPE_cc  6484 non-null   int8               \n 72  CYCACT_cc      6484 non-null   int8               \n 73  CYCCOND_cc     6484 non-null   int8               \ndtypes: bool(14), category(22), datetime64[ns, UTC](1), float64(3), int64(7), int8(22), object(5)\nmemory usage: 1.2+ MB\n"
    }
   ],
   "source": [
    "df.info()"
   ]
  },
  {
   "cell_type": "code",
   "execution_count": 31,
   "metadata": {
    "tags": []
   },
   "outputs": [
    {
     "output_type": "stream",
     "name": "stdout",
     "text": "\nDictionary for Column:  ROAD_CLASS\n{0: 'Collector', 1: 'Expressway', 2: 'Laneway', 3: 'Local', 4: 'Major Arterial', 5: 'Minor Arterial', 6: 'Other', 7: 'Pending'}\n\nDictionary for Column:  District\n{0: 'Etobicoke York', 1: 'North York', 2: 'Scarborough', 3: 'Toronto and East York'}\n\nDictionary for Column:  WardNum\n{0: 1.0, 1: 2.0, 2: 3.0, 3: 4.0, 4: 5.0, 5: 6.0, 6: 7.0, 7: 8.0, 8: 9.0, 9: 10.0, 10: 11.0, 11: 12.0, 12: 13.0, 13: 14.0, 14: 15.0, 15: 16.0, 16: 17.0, 17: 18.0, 18: 19.0, 19: 20.0, 20: 21.0, 21: 22.0, 22: 23.0, 23: 24.0, 24: 25.0}\n\nDictionary for Column:  LOCCOORD\n{0: 'Intersection', 1: 'Mid-Block'}\n\nDictionary for Column:  ACCLOC\n{0: 'At Intersection', 1: 'At/Near Private Drive', 2: 'Intersection Related', 3: 'Laneway', 4: 'Non Intersection', 5: 'Overpass or Bridge', 6: 'Private Driveway'}\n\nDictionary for Column:  TRAFFCTL\n{0: 'No Control', 1: 'PXO - No Ped', 2: 'Pedestrian Crossover', 3: 'Police Control', 4: 'School Guard', 5: 'Stop Sign', 6: 'Streetcar (Stop for)', 7: 'Traffic Controller', 8: 'Traffic Gate', 9: 'Traffic Signal', 10: 'Yield Sign'}\n\nDictionary for Column:  VISIBILITY\n{0: 'Clear', 1: 'Drifting Snow', 2: 'Fog, Mist, Smoke, Dust', 3: 'Freezing Rain', 4: 'Other', 5: 'Rain', 6: 'Snow', 7: 'Strong wind'}\n\nDictionary for Column:  LIGHT\n{0: 'Dark', 1: 'Dark, artificial', 2: 'Dawn', 3: 'Dawn, artificial', 4: 'Daylight', 5: 'Daylight, artificial', 6: 'Dusk', 7: 'Dusk, artificial', 8: 'Other'}\n\nDictionary for Column:  RDSFCOND\n{0: 'Dry', 1: 'Ice', 2: 'Loose Sand or Gravel', 3: 'Loose Snow', 4: 'Other', 5: 'Packed Snow', 6: 'Slush', 7: 'Wet'}\n\nDictionary for Column:  INVTYPE\n{0: 'Cyclist', 1: 'Driver', 2: 'Driver - Not Hit', 3: 'In-Line Skater', 4: 'Motorcycle Driver', 5: 'Other', 6: 'Other Property Owner', 7: 'Passenger', 8: 'Pedestrian', 9: 'Pedestrian - Not Hit', 10: 'Trailer Owner', 11: 'Truck Driver', 12: 'Vehicle Owner', 13: 'Wheelchair', 14: 'Witness'}\n\nDictionary for Column:  INJURY\n{0: 'Fatal', 1: 'Major', 2: 'Minimal', 3: 'Minor', 4: 'None'}\n\nDictionary for Column:  INITDIR\n{0: 'East', 1: 'North', 2: 'South', 3: 'Unknown', 4: 'West'}\n\nDictionary for Column:  VEHTYPE\n{0: 'Automobile, Station Wagon', 1: 'Bicycle', 2: 'Bus (Other) (Go Bus, Gray Coach)', 3: 'Construction Equipment', 4: 'Delivery Van', 5: 'Fire Vehicle', 6: 'Intercity Bus', 7: 'Motorcycle', 8: 'Municipal Transit Bus (TTC)', 9: 'Other', 10: 'Passenger Van', 11: 'Pick Up Truck', 12: 'Police Vehicle', 13: 'School Bus', 14: 'Street Car', 15: 'Taxi', 16: 'Truck (other)', 17: 'Truck - Car Carrier', 18: 'Truck - Closed (Blazer, etc)', 19: 'Truck - Dump', 20: 'Truck - Open', 21: 'Truck - Tank', 22: 'Truck-Tractor'}\n\nDictionary for Column:  MANOEUVER\n{0: 'Changing Lanes', 1: 'Disabled', 2: 'Going Ahead', 3: 'Making U Turn', 4: 'Merging', 5: 'Other', 6: 'Overtaking', 7: 'Parked', 8: 'Pulling Away from Shoulder or Curb', 9: 'Pulling Onto Shoulder or towardCurb', 10: 'Reversing', 11: 'Slowing or Stopping', 12: 'Stopped', 13: 'Turning Left', 14: 'Turning Right', 15: 'Unknown'}\n\nDictionary for Column:  DRIVACT\n{0: 'Disobeyed Traffic Control', 1: 'Driving Properly', 2: 'Exceeding Speed Limit', 3: 'Failed to Yield Right of Way', 4: 'Following too Close', 5: 'Improper Lane Change', 6: 'Improper Passing', 7: 'Improper Turn', 8: 'Lost control', 9: 'Other', 10: 'Speed too Fast For Condition', 11: 'Wrong Way on One Way Road'}\n\nDictionary for Column:  DRIVCOND\n{0: 'Ability Impaired, Alcohol', 1: 'Ability Impaired, Alcohol Over .08', 2: 'Ability Impaired, Drugs', 3: 'Fatigue', 4: 'Had Been Drinking', 5: 'Inattentive', 6: 'Medical or Physical Disability', 7: 'Normal', 8: 'Other', 9: 'Unknown'}\n\nDictionary for Column:  PEDTYPE\n{0: 'Other / Undefined', 1: 'Pedestrian hit a PXO/ped. Mid-block signal', 2: 'Pedestrian hit at mid-block', 3: 'Pedestrian hit at parking lot', 4: 'Pedestrian hit at private driveway', 5: 'Pedestrian hit on sidewalk or shoulder', 6: 'Pedestrian involved in a collision with transit vehicle anywhere along roadway', 7: 'Unknown', 8: 'Vehicle hits the pedestrian walking or running out from between parked vehicles at mid-block', 9: 'Vehicle is going straight thru inter.while ped cross with ROW', 10: 'Vehicle is going straight thru inter.while ped cross without ROW', 11: 'Vehicle is reversing and hits pedestrian', 12: 'Vehicle turns left while ped crosses with ROW at inter.', 13: 'Vehicle turns left while ped crosses without ROW at inter.', 14: 'Vehicle turns right while ped crosses with ROW at inter.', 15: 'Vehicle turns right while ped crosses without ROW at inter.'}\n\nDictionary for Column:  PEDACT\n{0: 'Coming From Behind Parked Vehicle', 1: 'Crossing marked crosswalk without ROW', 2: 'Crossing with right of way', 3: 'Crossing without right of way', 4: 'Crossing, Pedestrian Crossover', 5: 'Crossing, no Traffic Control', 6: 'On Sidewalk or Shoulder', 7: 'Other', 8: 'Person Getting on/off School Bus', 9: 'Person Getting on/off Vehicle', 10: 'Playing or Working on Highway', 11: 'Pushing/Working on Vehicle', 12: 'Running onto Roadway', 13: 'Walking on Roadway Against Traffic', 14: 'Walking on Roadway with Traffic'}\n\nDictionary for Column:  PEDCOND\n{0: 'Ability Impaired, Alcohol', 1: 'Ability Impaired, Alcohol Over .80', 2: 'Ability Impaired, Drugs', 3: 'Fatigue', 4: 'Had Been Drinking', 5: 'Inattentive', 6: 'Medical or Physical Disability', 7: 'Normal', 8: 'Other', 9: 'Unknown'}\n\nDictionary for Column:  CYCLISTYPE\n{0: 'Cyclist strikes pedestrian.'}\n\nDictionary for Column:  CYCACT\n{0: 'Disobeyed Traffic Control', 1: 'Driving Properly', 2: 'Failed to Yield Right of Way'}\n\nDictionary for Column:  CYCCOND\n{0: 'Inattentive', 1: 'Normal', 2: 'Unknown'}\n"
    }
   ],
   "source": [
    "# listing all those categories definitions\n",
    "for i in li_cat_cols:\n",
    "    for j in i:\n",
    "        a = dict( enumerate(df[j].cat.categories ) )\n",
    "        print(\"\\nDictionary for Column: \", j)\n",
    "        print(a)"
   ]
  },
  {
   "cell_type": "markdown",
   "metadata": {},
   "source": [
    "### Converting to Age Group into bagging\n",
    "\n",
    "see this page:  \n",
    "https://pandas.pydata.org/pandas-docs/stable/user_guide/categorical.html"
   ]
  },
  {
   "cell_type": "code",
   "execution_count": 32,
   "metadata": {},
   "outputs": [],
   "source": [
    "age_list_bagging = { \n",
    "    'unknown'  : 0 ,\n",
    "    '0 to 4'   : 1 ,\n",
    "    '5 to 9'   : 2 , \n",
    "    '10 to 14' : 3 ,\n",
    "    '15 to 19' : 4 , \n",
    "    '20 to 24' : 5 ,\n",
    "    '25 to 29' : 6 ,\n",
    "    '30 to 34' : 7 ,\n",
    "    '35 to 39' : 8 , \n",
    "    '40 to 44' : 9 , \n",
    "    '45 to 49' : 10,\n",
    "    '50 to 54' : 11,\n",
    "    '55 to 59' : 12, \n",
    "    '60 to 64' : 13,\n",
    "    '65 to 69' : 14, \n",
    "    '70 to 74' : 15, \n",
    "    '75 to 79' : 16, \n",
    "    '80 to 84' : 17, \n",
    "    '85 to 89' : 18, \n",
    "    '90 to 94' : 19, \n",
    "    'Over 95'  : 20 \n",
    "}"
   ]
  },
  {
   "cell_type": "markdown",
   "metadata": {},
   "source": [
    "reverse lookup for age -> age_list_index"
   ]
  },
  {
   "cell_type": "code",
   "execution_count": 33,
   "metadata": {},
   "outputs": [
    {
     "output_type": "execute_result",
     "data": {
      "text/plain": "{0: 'unknown',\n 1: '0 to 4',\n 2: '5 to 9',\n 3: '10 to 14',\n 4: '15 to 19',\n 5: '20 to 24',\n 6: '25 to 29',\n 7: '30 to 34',\n 8: '35 to 39',\n 9: '40 to 44',\n 10: '45 to 49',\n 11: '50 to 54',\n 12: '55 to 59',\n 13: '60 to 64',\n 14: '65 to 69',\n 15: '70 to 74',\n 16: '75 to 79',\n 17: '80 to 84',\n 18: '85 to 89',\n 19: '90 to 94',\n 20: 'Over 95'}"
     },
     "metadata": {},
     "execution_count": 33
    }
   ],
   "source": [
    "age_list_index = {value : key for (key, value) in age_list_bagging.items()}\n",
    "age_list_index"
   ]
  },
  {
   "cell_type": "code",
   "execution_count": 34,
   "metadata": {},
   "outputs": [],
   "source": [
    "df['INVAGE_cc'] = df['INVAGE'].map(age_list_bagging)\n",
    "#test = df[['INVAGE_cc', 'INVAGE']]"
   ]
  },
  {
   "cell_type": "code",
   "execution_count": 35,
   "metadata": {},
   "outputs": [],
   "source": [
    "# converting time to cat\n",
    "df['ACCNUM'] = pd.Categorical(df['ACCNUM'])\n",
    "df['YEAR'] = pd.Categorical(df['YEAR'])\n",
    "df['HOUR'] = pd.Categorical(df['HOUR'])"
   ]
  },
  {
   "cell_type": "code",
   "execution_count": 36,
   "metadata": {
    "tags": []
   },
   "outputs": [
    {
     "output_type": "stream",
     "name": "stdout",
     "text": "<class 'pandas.core.frame.DataFrame'>\nDatetimeIndex: 6484 entries, 2006-01-02 07:05:00 to 2019-06-27 18:50:00\nData columns (total 75 columns):\n #   Column         Non-Null Count  Dtype              \n---  ------         --------------  -----              \n 0   Index_         6484 non-null   int64              \n 1   ACCNUM         6484 non-null   category           \n 2   YEAR           6484 non-null   category           \n 3   DATE           6484 non-null   datetime64[ns, UTC]\n 4   TIME           6484 non-null   int64              \n 5   HOUR           6484 non-null   category           \n 6   STREET1        6484 non-null   object             \n 7   STREET2        5897 non-null   object             \n 8   OFFSET         916 non-null    object             \n 9   ROAD_CLASS     6457 non-null   category           \n 10  District       6482 non-null   category           \n 11  WardNum        5464 non-null   category           \n 12  Division       6484 non-null   int64              \n 13  LATITUDE       6484 non-null   float64            \n 14  LONGITUDE      6484 non-null   float64            \n 15  LOCCOORD       6446 non-null   category           \n 16  ACCLOC         4391 non-null   category           \n 17  TRAFFCTL       6477 non-null   category           \n 18  VISIBILITY     6470 non-null   category           \n 19  LIGHT          6484 non-null   category           \n 20  RDSFCOND       6472 non-null   category           \n 21  ACCLASS        6484 non-null   bool               \n 22  INVTYPE        6477 non-null   category           \n 23  INVAGE         6484 non-null   object             \n 24  INJURY         5920 non-null   category           \n 25  FATAL_NO       393 non-null    float64            \n 26  INITDIR        5109 non-null   category           \n 27  VEHTYPE        5047 non-null   category           \n 28  MANOEUVER      2861 non-null   category           \n 29  DRIVACT        2661 non-null   category           \n 30  DRIVCOND       2659 non-null   category           \n 31  PEDTYPE        2570 non-null   category           \n 32  PEDACT         2564 non-null   category           \n 33  PEDCOND        2684 non-null   category           \n 34  CYCLISTYPE     15 non-null     category           \n 35  CYCACT         15 non-null     category           \n 36  CYCCOND        15 non-null     category           \n 37  PEDESTRIAN     6484 non-null   bool               \n 38  CYCLIST        6484 non-null   bool               \n 39  AUTOMOBILE     6484 non-null   bool               \n 40  MOTORCYCLE     6484 non-null   bool               \n 41  TRUCK          6484 non-null   bool               \n 42  TRSN_CITY_VEH  6484 non-null   bool               \n 43  EMERG_VEH      6484 non-null   bool               \n 44  PASSENGER      6484 non-null   bool               \n 45  SPEEDING       6484 non-null   bool               \n 46  AG_DRIV        6484 non-null   bool               \n 47  REDLIGHT       6484 non-null   bool               \n 48  ALCOHOL        6484 non-null   bool               \n 49  DISABILITY     6484 non-null   bool               \n 50  Hood_ID        6484 non-null   int64              \n 51  Neighbourhood  6484 non-null   object             \n 52  ROAD_CLASS_cc  6484 non-null   int8               \n 53  District_cc    6484 non-null   int8               \n 54  WardNum_cc     6484 non-null   int8               \n 55  LOCCOORD_cc    6484 non-null   int8               \n 56  ACCLOC_cc      6484 non-null   int8               \n 57  TRAFFCTL_cc    6484 non-null   int8               \n 58  VISIBILITY_cc  6484 non-null   int8               \n 59  LIGHT_cc       6484 non-null   int8               \n 60  RDSFCOND_cc    6484 non-null   int8               \n 61  INVTYPE_cc     6484 non-null   int8               \n 62  INJURY_cc      6484 non-null   int8               \n 63  INITDIR_cc     6484 non-null   int8               \n 64  VEHTYPE_cc     6484 non-null   int8               \n 65  MANOEUVER_cc   6484 non-null   int8               \n 66  DRIVACT_cc     6484 non-null   int8               \n 67  DRIVCOND_cc    6484 non-null   int8               \n 68  PEDTYPE_cc     6484 non-null   int8               \n 69  PEDACT_cc      6484 non-null   int8               \n 70  PEDCOND_cc     6484 non-null   int8               \n 71  CYCLISTYPE_cc  6484 non-null   int8               \n 72  CYCACT_cc      6484 non-null   int8               \n 73  CYCCOND_cc     6484 non-null   int8               \n 74  INVAGE_cc      6484 non-null   int64              \ndtypes: bool(14), category(25), datetime64[ns, UTC](1), float64(3), int64(5), int8(22), object(5)\nmemory usage: 1.2+ MB\n"
    }
   ],
   "source": [
    "df.info()"
   ]
  },
  {
   "cell_type": "markdown",
   "metadata": {},
   "source": [
    "## Intersection Name\n",
    "Merging Street 1 and Street 2 so it make sense"
   ]
  },
  {
   "cell_type": "markdown",
   "metadata": {},
   "source": [
    "Problem:  \n",
    "when combining 2 columns in to 1 i.e. (df['STREET'] = df['STREET1'] + ' & ' + df['STREET2']), you get different results.  \n",
    "\n",
    "DUNDAS ST W & BLOOR ST W  -> 5 cases and  \n",
    "BLOOR ST W & DUNDAS ST W  -> 5 (another 5 )  \n",
    "\n",
    "where this should be consider 10 cases in total. We have to remap those Street into one entity.  \n",
    "\n",
    "This code does not work  \n",
    "df['STREET'] = df['STREET1'] + ' & ' + df['STREET2']  \n",
    "cases_per_intersection = df.groupby(df['STREET'])['ACCNUM'].nunique().sort_values(ascending=False)  \n",
    "cases_per_intersection  \n"
   ]
  },
  {
   "cell_type": "markdown",
   "metadata": {},
   "source": [
    "see this as an example:  \n",
    "\n",
    "https://stackoverflow.com/questions/60313006/mapping-of-multiple-columns-categorical-values-in-pandas"
   ]
  },
  {
   "cell_type": "code",
   "execution_count": 37,
   "metadata": {},
   "outputs": [],
   "source": [
    "df['STREET1_MOD'] = df['STREET1'].str.upper()\n",
    "df['STREET2_MOD'] = df['STREET2'].str.upper()\n",
    "stacked = df[['STREET1_MOD', 'STREET2_MOD']].stack()"
   ]
  },
  {
   "cell_type": "code",
   "execution_count": 38,
   "metadata": {
    "tags": []
   },
   "outputs": [
    {
     "output_type": "stream",
     "name": "stdout",
     "text": "codes:  [ 346  707  346 ... 1465 1110 1735]\nuniques: Index(['1 AUTUMN AVE', '1 MASSEY SQ', '100 STEELES AVE W',\n       '100 STEELES AVEN W', '1000 GERRARD ST E', '1035 SHEPPARD AVE W',\n       '1048 BLOOR ST W', '1058 GERRARD ST E', '1071 QUEEN ST W',\n       '1092 KEELE ST',\n       ...\n       'YORK GATE BLVD', 'YORK MILLS RD', 'YORK ST',\n       'YORK ST GARDINER W  RAMP', 'YORK STREET', 'YORKDALE RD', 'YORKLAND RD',\n       'YORKVILLE AVE', 'YORKWOODS GT', 'ZENITH DR'],\n      dtype='object', length=1912)\n"
    }
   ],
   "source": [
    "codes, uniques = pd.factorize(stacked, sort=True)\n",
    "print('codes: ', codes)\n",
    "print('uniques:', uniques)"
   ]
  },
  {
   "cell_type": "code",
   "execution_count": 39,
   "metadata": {},
   "outputs": [],
   "source": [
    "df['STREET1_MOD'] = pd.Categorical(df['STREET1_MOD'], categories=uniques)\n",
    "df['STREET2_MOD'] = pd.Categorical(df['STREET2_MOD'], categories=uniques)\n",
    "df['STREET1_cc'] = df['STREET1_MOD'].cat.codes\n",
    "df['STREET2_cc'] = df['STREET2_MOD'].cat.codes\n",
    "df['STREET12'] = df['STREET1'] + ' & ' + df['STREET2']"
   ]
  },
  {
   "cell_type": "markdown",
   "metadata": {},
   "source": [
    "So, now we have unique numbers for the street's identifiers, we can combine their codes by union them together. Since AB = BA (commutative), we will multiple the two integers together."
   ]
  },
  {
   "cell_type": "code",
   "execution_count": 40,
   "metadata": {},
   "outputs": [],
   "source": [
    "df['STREET_U'] = df['STREET1_cc'].astype(int) * df['STREET2_cc'].astype(int)"
   ]
  },
  {
   "cell_type": "code",
   "execution_count": 41,
   "metadata": {},
   "outputs": [],
   "source": [
    "def get_intersection_name(val):\n",
    "    filter = df['STREET_U']==val\n",
    "    a = df[filter]\n",
    "    st = a.iloc[0]['STREET12']\n",
    "    return str(st)"
   ]
  },
  {
   "cell_type": "markdown",
   "metadata": {},
   "source": [
    "this is how you use to map STREET_U code back to intersection name  \n",
    "```\n",
    "df['INTERSECTION_NAME'] = df.STREET_U.apply(lambda x: get_intersection_name(x))\n",
    "```"
   ]
  },
  {
   "cell_type": "markdown",
   "metadata": {},
   "source": [
    "## Neighbourhood Dictionary\n",
    "#### Obtain a dictionary type for neighbourhood name\n",
    "where you get key, value pair for neighbourhood {id: name}"
   ]
  },
  {
   "cell_type": "code",
   "execution_count": 42,
   "metadata": {},
   "outputs": [],
   "source": [
    "def convert_index_to_dict(string_list):\n",
    "    dct = dict()\n",
    "    for s in string_list:\n",
    "        res = s[s.find(\"(\")+1:s.find(\")\")]\n",
    "        a = int(res)\n",
    "        t = s[:s.find(\" (\")]\n",
    "        dct[a] = str(t)\n",
    "    return dct"
   ]
  },
  {
   "cell_type": "code",
   "execution_count": 43,
   "metadata": {},
   "outputs": [],
   "source": [
    "hood_series = df['Neighbourhood'].unique()"
   ]
  },
  {
   "cell_type": "markdown",
   "metadata": {},
   "source": [
    "need to fix one value with multiple brackets"
   ]
  },
  {
   "cell_type": "code",
   "execution_count": 44,
   "metadata": {},
   "outputs": [],
   "source": [
    "hood_series[hood_series == 'Mimico (includes Humber Bay Shores) (17)'] = 'Mimico includes Humber Bay Shores (17)'"
   ]
  },
  {
   "cell_type": "code",
   "execution_count": 45,
   "metadata": {},
   "outputs": [
    {
     "output_type": "execute_result",
     "data": {
      "text/plain": "'Yonge-St.Clair'"
     },
     "metadata": {},
     "execution_count": 45
    }
   ],
   "source": [
    "hood_list = hood_series.tolist()\n",
    "hood_dict = convert_index_to_dict(hood_list)\n",
    "hood_dict[97]"
   ]
  },
  {
   "cell_type": "markdown",
   "metadata": {},
   "source": [
    "# Data Cleansing Ends Here..."
   ]
  }
 ]
}